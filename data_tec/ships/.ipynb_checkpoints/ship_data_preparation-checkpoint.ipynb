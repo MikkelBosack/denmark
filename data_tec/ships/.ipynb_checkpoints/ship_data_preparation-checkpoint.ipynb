{
 "cells": [
  {
   "cell_type": "markdown",
   "metadata": {},
   "source": [
    "# Fuel Data Processing\n",
    "\n",
    "Converts each value for the __*ship_data*__ table to the required unit.\n",
    "\n",
    "The auxiliary tools and sources are stated within the script. Further, the main source can be found in the fuel data reference table.\n",
    "\n",
    "The selection of the ship types available for the model to invest in are based on __Brynolf2018, fig. 1__. The combination of the fuel type and propellant technology specify the ship type. The cargo type is ignored. "
   ]
  },
  {
   "cell_type": "markdown",
   "metadata": {},
   "source": [
    "## Content\n",
    "> ### Script Set-Up\n",
    "### Tools\n",
    "### Ship Stock\n",
    "### CO2 Emissions, Transport Supply, Ship and Operation Costs\n",
    "    - IC_HFO\n",
    "    - IC_MDO\n",
    "    - IC_LNG\n",
    "### Fuel Amount 2016\n",
    "### Lifetime\n",
    "### Ship and Operation Costs\n",
    "    - IC_CH3OH\n",
    "    - EM_ELEC\n",
    "    - WIND_ELEC\n",
    "### Transport Supply\n",
    "    - WIND_ELEC\n",
    "### Emissions\n",
    "    - FC_CH3OH"
   ]
  },
  {
   "cell_type": "markdown",
   "metadata": {},
   "source": [
    "## Script Set-Up"
   ]
  },
  {
   "cell_type": "code",
   "execution_count": 115,
   "metadata": {
    "collapsed": true
   },
   "outputs": [],
   "source": [
    "# Import net present value function from numpy\n",
    "from numpy import npv as npv"
   ]
  },
  {
   "cell_type": "code",
   "execution_count": 116,
   "metadata": {
    "collapsed": true
   },
   "outputs": [],
   "source": [
    "# Function for the annuity calculation\n",
    "def annuity(rate, periods):\n",
    "    i = rate\n",
    "    n = periods\n",
    "    if i > 1:\n",
    "        i = i / 100\n",
    "    q = (1 + i)**n\n",
    "    a = (q * i)/(q - 1)\n",
    "    return a"
   ]
  },
  {
   "cell_type": "markdown",
   "metadata": {},
   "source": [
    "## Tools\n",
    "> 1. JGB2016: Base year currency converter 2016 JGB\n",
    "2. Kristenen2015: DTU ship emission calculation tool (https://www.danishshipping.dk/en/policy/klimapolitik/beregningsvaerktoejer/)\n",
    "3. Energinet2017: LNG plant spreadsheet"
   ]
  },
  {
   "cell_type": "markdown",
   "metadata": {},
   "source": [
    "## Ship Stock"
   ]
  },
  {
   "cell_type": "code",
   "execution_count": 117,
   "metadata": {
    "collapsed": true
   },
   "outputs": [],
   "source": [
    "# Ship-type shares used to calculate emissions with T2:\n",
    "share_bulker = 0.36\n",
    "share_tanker = 0.54\n",
    "share_containership = 0.09"
   ]
  },
  {
   "cell_type": "markdown",
   "metadata": {},
   "source": [
    "## CO2 Emissions From Well To Propeller $\\left[\\frac{g_{co2}}{MJ}\\right]$, Transport Supply $\\left[\\frac{Ttkm}{MJ}\\right]$, Ship Costs $\\left[\\frac{€_{2016}}{MJ}\\right]$\n",
    "For standart ship types the new-build costs are calculated with the annual charter rate multiplied by the annuity factor over the ships expected technical lifetime.\n",
    "\n",
    "If a new engine is deployed conversion costs are added.\n",
    "\n",
    "The applied interest rate is based on [(Energinet2017_AnalysisAssumption, p. 8)](https://en.energinet.dk/-/media/Energinet/Analyser-og-Forskning-RMS/Dokumenter/Engelsk/Analysis-assumptions/Rapport---Energinets-analyseforudstninger-2017---engelsk.PDF)"
   ]
  },
  {
   "cell_type": "markdown",
   "metadata": {},
   "source": [
    "### Old Internal Combustion Heavy Fuel Oil (IC_HFO_OLD)\n",
    "Values for T2 default column:\n",
    "- Main engine type (slow speed = 1, medium speed = 2) = 2\n",
    "- TIER 1, 2 or 3 engine? (1 - 3) = 1\n",
    "- Fuel type (HFO = 1, MD/GO = 2, LNG = 3, Dual fuel = 4) = 1\n",
    "- Use of scrubbers if oil is used (NO = 0, YES=1) = 0"
   ]
  },
  {
   "cell_type": "markdown",
   "metadata": {},
   "source": [
    "#### Bulker values for T2 default column\n",
    "- Maximum deadweight = 40000 (UNCTAD2017, tab. 2.3, top 35 shipowners)\n",
    "- Capacity utilization (100 % ~ design condition) = 55 (based on: https://www.transportmeasures.org/en/wiki/manuals/sea/load-capacity-utilisation/)\n",
    "\n",
    "Results from T2, Emissions at Sea (T2P):\n",
    "- Energy demand per hour = 49 GJ/h\n",
    "- Energy demand = 0.167 MJ/(dwt*nm)\n",
    "- CO2 = 12.8 g/(dwt*nm)"
   ]
  },
  {
   "cell_type": "code",
   "execution_count": 118,
   "metadata": {
    "collapsed": true
   },
   "outputs": [],
   "source": [
    "# Emission conversion to g/MJ\n",
    "energy_demand = 0.167\n",
    "co2_bulker_hfo_old = 12.8 / energy_demand\n",
    "\n",
    "# Transport supply conversion to Ttkm/MJ\n",
    "ts_bulker_hfo_old = 1.852 / (energy_demand * 1000)"
   ]
  },
  {
   "cell_type": "code",
   "execution_count": 119,
   "metadata": {
    "collapsed": true
   },
   "outputs": [],
   "source": [
    "# 40000 (Handysize) dwt bulker daily charte costs [USD2016/d] (Rex2017, fig. DB.2: http://www.shipfinance.dk/media/1735/shipping-market-review-may-2017.pdf)\n",
    "charter_bulker = 6000\n",
    "\n",
    "# Currency exchange rate [EUR2016/USD2016] (T1)\n",
    "rate = 0.903423977\n",
    "\n",
    "# Conversion GJ/h to MJ/a with 7000 h/a (own assumption)\n",
    "flh = 7000\n",
    "energy_demand = 49 * 1000 * flh\n",
    "\n",
    "# Energy specific new-build annuity [EUR2016/MJ]\n",
    "charter_bulker = charter_bulker * rate * 365\n",
    "sc_bulker_hfo_old = charter_bulker / energy_demand"
   ]
  },
  {
   "cell_type": "code",
   "execution_count": 120,
   "metadata": {
    "collapsed": true
   },
   "outputs": [],
   "source": [
    "# Handysize bulker operation costs [USD2011/a] (Greiner2012, p. 13)\n",
    "annual_oc_bulker = 5278\n",
    "\n",
    "# Currency exchange rate [EUR2016/USD2011] (T1)\n",
    "rate = 0.754374248\n",
    "\n",
    "# Energy specific operation costs [EUR2016/MJ]\n",
    "oc_bulker_hfo_old = annual_oc_bulker * rate / energy_demand"
   ]
  },
  {
   "cell_type": "markdown",
   "metadata": {},
   "source": [
    "#### Tanker values for T2 default column\n",
    "- Maximum deadweight = 40000 (UNCTAD2017, tab. 2.3, top 35 shipowners)\n",
    "- Capacity utilization (100 % ~ design condition) = 50 (based on: https://www.transportmeasures.org/en/wiki/manuals/sea/load-capacity-utilisation/)\n",
    "\n",
    "Results from T2, Emissions at Sea (T2P):\n",
    "- Energy demand per hour = 55.2 GJ/h\n",
    "- Energy demand = 0.195 MJ/(dwt*nm)\n",
    "- CO2 = 15 g/(dwt*nm)"
   ]
  },
  {
   "cell_type": "code",
   "execution_count": 121,
   "metadata": {
    "collapsed": true
   },
   "outputs": [],
   "source": [
    "# Emission conversion to g/MJ\n",
    "energy_demand = 0.195\n",
    "co2_tanker_hfo_old = 15 / energy_demand\n",
    "\n",
    "# Transport supply conversion to Ttkm/MJ\n",
    "ts_tanker_hfo_old = 1.852 / (energy_demand * 1000)"
   ]
  },
  {
   "cell_type": "code",
   "execution_count": 122,
   "metadata": {
    "collapsed": true
   },
   "outputs": [],
   "source": [
    "# 120000 (Aframax) dwt tanker daily charte costs [USD2016/d] (Rex2017, fig. T.2: http://www.shipfinance.dk/media/1735/shipping-market-review-may-2017.pdf)\n",
    "charter_tanker = 27500 * 40000 / 120000\n",
    "\n",
    "# Currency exchange rate [EUR2016/USD2016] (T1)\n",
    "rate = 0.903423977\n",
    "\n",
    "# Conversion GJ/h to MJ/a with 7000 h/a (own assumption)\n",
    "flh = 7000\n",
    "energy_demand = 55.2 * 1000 * flh\n",
    "\n",
    "# Energy specific new-build costs [EUR2016/MJ]\n",
    "charter_tanker = charter_tanker * rate * 365\n",
    "sc_tanker_hfo_old = charter_tanker / energy_demand"
   ]
  },
  {
   "cell_type": "code",
   "execution_count": 123,
   "metadata": {
    "collapsed": true
   },
   "outputs": [],
   "source": [
    "# Handysize tanker operation costs [USD2011/a] (Greiner2012, p. 14)\n",
    "annual_oc_tanker = 7670\n",
    "\n",
    "# Currency exchange rate [EUR2016/USD2011] (T1)\n",
    "rate = 0.754374248\n",
    "\n",
    "# Energy specific operation costs [EUR2016/MJ]\n",
    "oc_tanker_hfo_old = annual_oc_tanker * rate / energy_demand"
   ]
  },
  {
   "cell_type": "markdown",
   "metadata": {},
   "source": [
    "#### Container-ship values for T2 default column\n",
    "- Container capacity = 2500 TEU(UNCTAD2017, tab. 2.4, top 20 owners subtotal)\n",
    "- Capacity utilization (100 % ~ design condition) = 73\n",
    "\n",
    "Results from T2, Emissions-ton (T2P):\n",
    "- Energy demand per hour = 149 GJ/h\n",
    "- Energy demand = 0.295 MJ/(dwt*nm)\n",
    "- CO2 = 22.7 g/(dwt*nm)"
   ]
  },
  {
   "cell_type": "code",
   "execution_count": 124,
   "metadata": {
    "collapsed": true
   },
   "outputs": [],
   "source": [
    "# Emission conversion to g/MJ\n",
    "energy_demand = 0.295\n",
    "co2_containership_hfo_old = 22.7 / energy_demand\n",
    "\n",
    "# Transport supply conversion to Ttkm/MJ\n",
    "ts_containership_hfo_old = 1.852 / (energy_demand * 1000)"
   ]
  },
  {
   "cell_type": "code",
   "execution_count": 125,
   "metadata": {
    "collapsed": true
   },
   "outputs": [],
   "source": [
    "# 2500 TEU container ship new-build costs [USD2016] (Rex2017, fig. C.3: http://www.shipfinance.dk/media/1735/shipping-market-review-may-2017.pdf)\n",
    "cs_25000TEU = 31000000\n",
    "\n",
    "# Currency exchange rate [EUR2016/USD2016] (T1)\n",
    "rate = 0.903423977\n",
    "\n",
    "# Conversion GJ/h to MJ/a with 7000 h/a (own assumption)\n",
    "flh = 7000\n",
    "energy_demand = 149 * 1000 * flh\n",
    "\n",
    "# Energy specific new-build costs [EUR2016/MJ]\n",
    "sc_containership_hfo_old = cs_25000TEU * rate / energy_demand"
   ]
  },
  {
   "cell_type": "code",
   "execution_count": 126,
   "metadata": {
    "collapsed": true
   },
   "outputs": [],
   "source": [
    "# Main liner containership operation costs [USD2011/a] (Greiner2012, p. 15)\n",
    "annual_oc_containership = 7549\n",
    "\n",
    "# Currency exchange rate [EUR2016/USD2011] (T1)\n",
    "rate = 0.754374248\n",
    "\n",
    "# Energy specific operation costs [EUR2016/MJ]\n",
    "oc_containership_hfo_old = annual_oc_containership * rate / energy_demand"
   ]
  },
  {
   "cell_type": "markdown",
   "metadata": {},
   "source": [
    "#### Results IC_HFO_OLD"
   ]
  },
  {
   "cell_type": "code",
   "execution_count": 127,
   "metadata": {
    "scrolled": false
   },
   "outputs": [
    {
     "name": "stdout",
     "output_type": "stream",
     "text": [
      "hfo_old_co2:  76.05669963853258 g/MJ\n",
      "hfo_old_ts:   0.009685967663109245 Ttkm/MJ\n",
      "hfo_old_sc:  0.008717474336763705 EUR2016/MJ\n",
      "hfo_old_oc:  1.2756420060879158e-05 EUR2016/MJ\n"
     ]
    }
   ],
   "source": [
    "# Applying the ship type shares\n",
    "hfo_old_co2 = co2_bulker_hfo_old * share_bulker + co2_tanker_hfo_old * share_tanker + co2_containership_hfo_old * share_containership\n",
    "hfo_old_ts = ts_bulker_hfo_old * share_bulker + ts_tanker_hfo_old * share_tanker + ts_containership_hfo_old * share_containership\n",
    "hfo_old_sc = sc_bulker_hfo_old * share_bulker + sc_tanker_hfo_old * share_tanker + sc_containership_hfo_old * share_containership\n",
    "hfo_old_oc = oc_bulker_hfo_old * share_bulker + oc_tanker_hfo_old * share_tanker + oc_containership_hfo_old * share_containership\n",
    "\n",
    "\n",
    "# Print results\n",
    "print('hfo_old_co2: ', hfo_old_co2, 'g/MJ')\n",
    "print('hfo_old_ts:  ', hfo_old_ts, 'Ttkm/MJ')\n",
    "print('hfo_old_sc: ', hfo_old_sc, 'EUR2016/MJ')\n",
    "print('hfo_old_oc: ', hfo_old_oc, 'EUR2016/MJ')"
   ]
  },
  {
   "cell_type": "markdown",
   "metadata": {},
   "source": [
    "### Old Internal Combustion Marine Diesel Oil (IC_MDO_OLD)\n",
    "Values for T2 default column\n",
    "- Main engine type (slow speed = 1, medium speed = 2) = 2\n",
    "- TIER 1, 2 or 3 engine? (1 - 3) = 1\n",
    "- Fuel type (HFO = 1, MD/GO = 2, LNG = 3, Dual fuel = 4) = 2\n",
    "- Use of scrubbers if oil is used (NO = 0, YES=1) = 1"
   ]
  },
  {
   "cell_type": "markdown",
   "metadata": {},
   "source": [
    "#### Bulker values for T2 default column\n",
    "- Maximum deadweight = 40000 (UNCTAD2017, tab. 2.3, top 35 shipowners)\n",
    "- Capacity utilization (100 % ~ design condition) = 55 (based on: https://www.transportmeasures.org/en/wiki/manuals/sea/load-capacity-utilisation/)\n",
    "\n",
    "Results from T2, Emissions at Sea (T2P):\n",
    "- Energy demand per hour = 51 GJ/h\n",
    "- Energy demand = 0.172 MJ/(dwt*nm)\n",
    "- CO2 = 12.9 g/(dwt*nm)"
   ]
  },
  {
   "cell_type": "code",
   "execution_count": 128,
   "metadata": {
    "collapsed": true
   },
   "outputs": [],
   "source": [
    "# Emission conversion to g/MJ\n",
    "energy_demand = 0.172\n",
    "co2_bulker_mdo_old = 12.9 / energy_demand\n",
    "\n",
    "# Transport supply conversion to Ttkm/MJ\n",
    "ts_bulker_mdo_old = 1.852 / (energy_demand * 1000)"
   ]
  },
  {
   "cell_type": "code",
   "execution_count": 129,
   "metadata": {
    "collapsed": true
   },
   "outputs": [],
   "source": [
    "# 40000 (Handysize) dwt bulker daily charte costs [USD2016/d] (Rex2017, fig. DB.2: http://www.shipfinance.dk/media/1735/shipping-market-review-may-2017.pdf)\n",
    "charter_bulker = 6000\n",
    "\n",
    "# Currency exchange rate [EUR2016/USD2016] (T1)\n",
    "rate = 0.903423977\n",
    "\n",
    "# Conversion GJ/h to MJ/a with 7000 h/a (own assumption)\n",
    "flh = 7000\n",
    "energy_demand = 51 * 1000 * flh\n",
    "\n",
    "# Energy specific new-build annuity [EUR2016/MJ]\n",
    "charter_bulker = charter_bulker * rate * 365\n",
    "sc_bulker_mdo_old = charter_bulker / energy_demand"
   ]
  },
  {
   "cell_type": "code",
   "execution_count": 130,
   "metadata": {
    "collapsed": true
   },
   "outputs": [],
   "source": [
    "# Handysize bulker operation costs [USD2011/a] (Greiner2012, p. 13)\n",
    "annual_oc_bulker = 5278\n",
    "\n",
    "# Currency exchange rate [EUR2016/USD2011] (T1)\n",
    "rate = 0.754374248\n",
    "\n",
    "# Energy specific operation costs [EUR2016/MJ]\n",
    "oc_bulker_mdo_old = annual_oc_bulker * rate / energy_demand"
   ]
  },
  {
   "cell_type": "markdown",
   "metadata": {},
   "source": [
    "#### Tanker values for T2 default column\n",
    "- Maximum deadweight = 40000 (UNCTAD2017, tab. 2.3, top 35 shipowners)\n",
    "- Capacity utilization (100 % ~ design condition) = 50 (based on: https://www.transportmeasures.org/en/wiki/manuals/sea/load-capacity-utilisation/)\n",
    "\n",
    "Results from T2, Emissions at Sea (T2P):\n",
    "- Energy demand per hour = 56.8 GJ/h\n",
    "- Energy demand = 0.201 MJ/(dwt*nm)\n",
    "- CO2 = 15.1 g/(dwt*nm)"
   ]
  },
  {
   "cell_type": "code",
   "execution_count": 131,
   "metadata": {
    "collapsed": true
   },
   "outputs": [],
   "source": [
    "# Emission conversion to g/MJ\n",
    "energy_demand = 0.201\n",
    "co2_tanker_mdo_old = 15.1 / energy_demand\n",
    "\n",
    "# Transport supply conversion to Ttkm/MJ\n",
    "ts_tanker_mdo_old = 1.852 / (energy_demand * 1000)"
   ]
  },
  {
   "cell_type": "code",
   "execution_count": 132,
   "metadata": {
    "collapsed": true
   },
   "outputs": [],
   "source": [
    "# 120000 (Aframax) dwt tanker daily charte costs [USD2016/d] (Rex2017, fig. T.2: http://www.shipfinance.dk/media/1735/shipping-market-review-may-2017.pdf)\n",
    "charter_tanker = 27500 * 40000 / 120000\n",
    "\n",
    "# Currency exchange rate [EUR2016/USD2016] (T1)\n",
    "rate = 0.903423977\n",
    "\n",
    "# Conversion GJ/h to MJ/a with 7000 h/a (assumption)\n",
    "flh = 7000\n",
    "energy_demand = 56.8 * 1000 * flh\n",
    "\n",
    "# Energy specific new-build costs [EUR2016/MJ]\n",
    "charter_tanker = charter_tanker * rate * 365\n",
    "sc_tanker_mdo_old = charter_tanker / energy_demand"
   ]
  },
  {
   "cell_type": "code",
   "execution_count": 133,
   "metadata": {
    "collapsed": true
   },
   "outputs": [],
   "source": [
    "# Handysize tanker operation costs [USD2011/a] (Greiner2012, p. 14)\n",
    "annual_oc_tanker = 7670\n",
    "\n",
    "# Currency exchange rate [EUR2016/USD2011] (T1)\n",
    "rate = 0.754374248\n",
    "\n",
    "# Energy specific operation costs [EUR2016/MJ]\n",
    "oc_tanker_mdo_old = annual_oc_tanker * rate / energy_demand"
   ]
  },
  {
   "cell_type": "markdown",
   "metadata": {},
   "source": [
    "#### Container-ship values for T2 default column\n",
    "- Container capacity = 2500 TEU(UNCTAD2017, tab. 2.4, top 20 owners subtotal)\n",
    "- Capacity utilization (100 % ~ design condition) = 73\n",
    "\n",
    "Results from T2, Emissions-ton (T2P):\n",
    "- Energy demand per hour = 153 GJ/h\n",
    "- Energy demand = 0.304 MJ/(dwt*nm)\n",
    "- CO2 = 22.8 g/(dwt*nm)"
   ]
  },
  {
   "cell_type": "code",
   "execution_count": 134,
   "metadata": {
    "collapsed": true
   },
   "outputs": [],
   "source": [
    "# Emission conversion to g/MJ\n",
    "energy_demand = 0.302\n",
    "co2_containership_mdo_old = 22.8 / energy_demand\n",
    "\n",
    "# Transport supply conversion to Ttkm/MJ\n",
    "ts_containership_mdo_old = 1.852 / (energy_demand * 1000)"
   ]
  },
  {
   "cell_type": "code",
   "execution_count": 135,
   "metadata": {
    "collapsed": true
   },
   "outputs": [],
   "source": [
    "# 2500 TEU container ship new-build costs [USD2016] (Rex2017, fig. C.3: http://www.shipfinance.dk/media/1735/shipping-market-review-may-2017.pdf)\n",
    "cs_25000TEU = 31000000\n",
    "\n",
    "# Currency exchange rate [EUR2016/USD2016] (T1)\n",
    "rate = 0.903423977\n",
    "\n",
    "# Conversion GJ/h to MJ/a with 7000 h/a (assumption)\n",
    "flh = 7000\n",
    "energy_demand = 153 * 1000 * flh\n",
    "\n",
    "# Energy specific new-build costs [EUR2016/MJ]\n",
    "sc_containership_mdo_old = cs_25000TEU * rate / energy_demand"
   ]
  },
  {
   "cell_type": "code",
   "execution_count": 136,
   "metadata": {
    "collapsed": true
   },
   "outputs": [],
   "source": [
    "# Main liner containership operation costs [USD2011/a] (Greiner2012, p. 15)\n",
    "annual_oc_containership = 7549\n",
    "\n",
    "# Currency exchange rate [EUR2016/USD2011] (T1)\n",
    "rate = 0.754374248\n",
    "\n",
    "# Energy specific operation costs [EUR2016/MJ]\n",
    "oc_containership_mdo_old = annual_oc_containership * rate / energy_demand"
   ]
  },
  {
   "cell_type": "markdown",
   "metadata": {},
   "source": [
    "#### Results IC_MDO_OLD"
   ]
  },
  {
   "cell_type": "code",
   "execution_count": 137,
   "metadata": {
    "scrolled": false
   },
   "outputs": [
    {
     "name": "stdout",
     "output_type": "stream",
     "text": [
      "mdo_old_co2:  74.36186616585945 g/MJ\n",
      "mdo_old_ts:   0.009403721987628469 Ttkm/MJ\n",
      "mdo_old_sc:  0.008453866852026102 EUR2016/MJ\n",
      "mdo_old_oc:  1.2351916258387597e-05 EUR2016/MJ\n"
     ]
    }
   ],
   "source": [
    "# Applying the ship type shares\n",
    "mdo_old_co2 = co2_bulker_mdo_old * share_bulker + co2_tanker_mdo_old * share_tanker + co2_containership_mdo_old * share_containership\n",
    "mdo_old_ts = ts_bulker_mdo_old * share_bulker + ts_tanker_mdo_old * share_tanker + ts_containership_mdo_old * share_containership\n",
    "mdo_old_sc = sc_bulker_mdo_old * share_bulker + sc_tanker_mdo_old * share_tanker + sc_containership_mdo_old * share_containership\n",
    "mdo_old_oc = oc_bulker_mdo_old * share_bulker + oc_tanker_mdo_old * share_tanker + oc_containership_mdo_old * share_containership\n",
    "\n",
    "\n",
    "# Print results\n",
    "print('mdo_old_co2: ', mdo_old_co2, 'g/MJ')\n",
    "print('mdo_old_ts:  ', mdo_old_ts, 'Ttkm/MJ')\n",
    "print('mdo_old_sc: ', mdo_old_sc, 'EUR2016/MJ')\n",
    "print('mdo_old_oc: ', mdo_old_oc, 'EUR2016/MJ')"
   ]
  },
  {
   "cell_type": "markdown",
   "metadata": {},
   "source": [
    "### Internal Combustion Heavy Fuel Oil (IC_HFO)\n",
    "Values for T2 default column:\n",
    "- Main engine type (slow speed = 1, medium speed = 2) = 2\n",
    "- TIER 1, 2 or 3 engine? (1 - 3) = 3\n",
    "- Fuel type (HFO = 1, MD/GO = 2, LNG = 3, Dual fuel = 4) = 1\n",
    "- Use of scrubbers if oil is used (NO = 0, YES=1) = 1"
   ]
  },
  {
   "cell_type": "markdown",
   "metadata": {},
   "source": [
    "#### Bulker values for T2 default column\n",
    "- Maximum deadweight = 40000 (UNCTAD2017, tab. 2.3, top 35 shipowners)\n",
    "- Capacity utilization (100 % ~ design condition) = 55 (based on: https://www.transportmeasures.org/en/wiki/manuals/sea/load-capacity-utilisation/)\n",
    "\n",
    "Results from T2, Emissions at Sea (T2P):\n",
    "- Energy demand per hour = 51 GJ/h\n",
    "- Energy demand = 0.172 MJ/(dwt*nm)\n",
    "- CO2 = 13.2 g/(dwt*nm)"
   ]
  },
  {
   "cell_type": "code",
   "execution_count": 138,
   "metadata": {
    "collapsed": true
   },
   "outputs": [],
   "source": [
    "# Emission conversion to g/MJ\n",
    "energy_demand = 0.172\n",
    "co2_bulker_hfo = 13.2 / energy_demand\n",
    "\n",
    "# Transport supply conversion to Ttkm/MJ\n",
    "ts_bulker_hfo = 1.852 / (energy_demand * 1000)"
   ]
  },
  {
   "cell_type": "code",
   "execution_count": 139,
   "metadata": {
    "collapsed": true
   },
   "outputs": [],
   "source": [
    "# 40000 (Handysize) dwt bulker daily charte costs [USD2016/d] (Rex2017, fig. T.2: http://www.shipfinance.dk/media/1735/shipping-market-review-may-2017.pdf)\n",
    "charter_bulker = 6000\n",
    "\n",
    "# Currency exchange rate [EUR2016/USD2016] (T1)\n",
    "rate = 0.903423977\n",
    "\n",
    "# Conversion GJ/h to MJ/a with 7000 h/a (own assumption)\n",
    "flh = 7000\n",
    "energy_demand = 51 * 1000 * flh\n",
    "\n",
    "# Energy specific new-build costs [EUR2016/MJ]\n",
    "charter_bulker = charter_bulker * rate * 365\n",
    "sc_bulker_hfo = charter_bulker / energy_demand"
   ]
  },
  {
   "cell_type": "code",
   "execution_count": 140,
   "metadata": {
    "collapsed": true
   },
   "outputs": [],
   "source": [
    "# Handysize bulker operation costs [USD2011/a] (Greiner2012, p. 13)\n",
    "annual_oc_bulker = 5278\n",
    "\n",
    "# Currency exchange rate [EUR2016/USD2011] (T1)\n",
    "rate = 0.754374248\n",
    "\n",
    "# Energy specific operation costs [EUR2016/MJ]\n",
    "oc_bulker_hfo = annual_oc_bulker * rate / energy_demand"
   ]
  },
  {
   "cell_type": "markdown",
   "metadata": {},
   "source": [
    "#### Tanker values for T2 default column\n",
    "- Maximum deadweight = 40000 (UNCTAD2017, tab. 2.3, top 35 shipowners)\n",
    "- Capacity utilization (100 % ~ design condition) = 50 (based on: https://www.transportmeasures.org/en/wiki/manuals/sea/load-capacity-utilisation/)\n",
    "\n",
    "Results from T2, Emissions at Sea (T2P):\n",
    "- Energy demand per hour = 56.8 GJ/h\n",
    "- Energy demand = 0.201 MJ/(dwt*nm)\n",
    "- CO2 = 15.4 g/(dwt*nm)"
   ]
  },
  {
   "cell_type": "code",
   "execution_count": 141,
   "metadata": {
    "collapsed": true
   },
   "outputs": [],
   "source": [
    "# Emission conversion to g/MJ\n",
    "energy_demand = 0.201\n",
    "co2_tanker_hfo = 15.4 / energy_demand\n",
    "\n",
    "# Transport supply conversion to Ttkm/MJ\n",
    "ts_tanker_hfo = 1.852 / (energy_demand * 1000)"
   ]
  },
  {
   "cell_type": "code",
   "execution_count": 142,
   "metadata": {
    "collapsed": true
   },
   "outputs": [],
   "source": [
    "# 120000 (Aframax) dwt tanker daily charte costs [USD2016/d] (Rex2017, fig. T.2: http://www.shipfinance.dk/media/1735/shipping-market-review-may-2017.pdf)\n",
    "charter_tanker = 27500 * 40000 / 120000\n",
    "\n",
    "# Currency exchange rate [EUR2016/USD2016] (T1)\n",
    "rate = 0.903423977\n",
    "\n",
    "# Conversion GJ/h to MJ/a with 7000 h/a (assumption)\n",
    "flh = 7000\n",
    "energy_demand = 56.8 * 1000 * flh\n",
    "\n",
    "# Energy specific new-build costs [EUR2016/MJ]\n",
    "charter_tanker = charter_tanker * rate * 365\n",
    "sc_tanker_hfo = charter_tanker / energy_demand"
   ]
  },
  {
   "cell_type": "code",
   "execution_count": 143,
   "metadata": {
    "collapsed": true
   },
   "outputs": [],
   "source": [
    "# Handysize tanker operation costs [USD2011/a] (Greiner2012, p. 14)\n",
    "annual_oc_tanker = 7670\n",
    "\n",
    "# Currency exchange rate [EUR2016/USD2011] (T1)\n",
    "rate = 0.754374248\n",
    "\n",
    "# Energy specific operation costs [EUR2016/MJ]\n",
    "oc_tanker_hfo = annual_oc_tanker * rate / energy_demand"
   ]
  },
  {
   "cell_type": "markdown",
   "metadata": {},
   "source": [
    "#### Container-ship values for T2 default column\n",
    "- Container capacity = 2500 TEU(UNCTAD2017, tab. 2.4, top 20 owners subtotal)\n",
    "- Capacity utilization (100 % ~ design condition) = 73\n",
    "\n",
    "Results from T2, Emissions-ton (T2P):\n",
    "- Energy demand per hour = 153 GJ/h\n",
    "- Energy demand = 0.304 MJ/(dwt*nm)\n",
    "- CO2 = 23.3 g/(dwt*nm)"
   ]
  },
  {
   "cell_type": "code",
   "execution_count": 144,
   "metadata": {
    "collapsed": true
   },
   "outputs": [],
   "source": [
    "# Emission conversion to g/MJ\n",
    "energy_demand = 0.304\n",
    "co2_containership_hfo = 23.3 / energy_demand\n",
    "\n",
    "# Transport supply conversion to Ttkm/MJ\n",
    "ts_containership_hfo = 1.852 / (energy_demand * 1000)"
   ]
  },
  {
   "cell_type": "code",
   "execution_count": 145,
   "metadata": {
    "collapsed": true
   },
   "outputs": [],
   "source": [
    "# 2500 TEU container ship new-build costs [USD2016] (Rex2017, fig. C.3: http://www.shipfinance.dk/media/1735/shipping-market-review-may-2017.pdf)\n",
    "cs_25000TEU = 31000000\n",
    "\n",
    "# Currency exchange rate [EUR2016/USD2016] (T1)\n",
    "rate = 0.903423977\n",
    "\n",
    "# Conversion GJ/h to MJ/a with 7000 h/a (own assumption)\n",
    "flh = 7000\n",
    "energy_demand = 153 * 1000 * flh\n",
    "\n",
    "# Energy specific new-build costs\n",
    "sc_containership_hfo = cs_25000TEU * rate / energy_demand"
   ]
  },
  {
   "cell_type": "code",
   "execution_count": 146,
   "metadata": {
    "collapsed": true
   },
   "outputs": [],
   "source": [
    "# Main liner containership operation costs [USD2011/a] (Greiner2012, p. 15)\n",
    "annual_oc_containership = 7549\n",
    "\n",
    "# Currency exchange rate [EUR2016/USD2011] (T1)\n",
    "rate = 0.754374248\n",
    "\n",
    "# Energy specific operation costs [EUR2016/MJ]\n",
    "oc_containership_hfo = annual_oc_containership * rate / energy_demand"
   ]
  },
  {
   "cell_type": "markdown",
   "metadata": {},
   "source": [
    "#### Results IC_HFO"
   ]
  },
  {
   "cell_type": "code",
   "execution_count": 147,
   "metadata": {
    "scrolled": true
   },
   "outputs": [
    {
     "name": "stdout",
     "output_type": "stream",
     "text": [
      "hfo_co2:  75.89906762089188 g/MJ\n",
      "hfo_ts:   0.009400090931511354 Ttkm/MJ\n",
      "hfo_sc:  0.008453866852026102 EUR2016/MJ\n",
      "hfo_oc:  1.2351916258387597e-05 EUR2016/MJ\n"
     ]
    }
   ],
   "source": [
    "# Applying the ship type shares\n",
    "hfo_co2 = co2_bulker_hfo * share_bulker + co2_tanker_hfo * share_tanker + co2_containership_hfo * share_containership\n",
    "hfo_ts = ts_bulker_hfo * share_bulker + ts_tanker_hfo * share_tanker + ts_containership_hfo * share_containership\n",
    "hfo_sc = sc_bulker_hfo * share_bulker + sc_tanker_hfo * share_tanker + sc_containership_hfo * share_containership\n",
    "hfo_oc = oc_bulker_hfo * share_bulker + oc_tanker_hfo * share_tanker + oc_containership_hfo * share_containership\n",
    "\n",
    "\n",
    "# Print results\n",
    "print('hfo_co2: ', hfo_co2, 'g/MJ')\n",
    "print('hfo_ts:  ', hfo_ts, 'Ttkm/MJ')\n",
    "print('hfo_sc: ', hfo_sc, 'EUR2016/MJ')\n",
    "print('hfo_oc: ', hfo_oc, 'EUR2016/MJ')"
   ]
  },
  {
   "cell_type": "markdown",
   "metadata": {},
   "source": [
    "### Internal Combustion Marine Diesel Oil (IC_MDO)\n",
    "Values for T2 default column:\n",
    "- Main engine type (slow speed = 1, medium speed = 2) = 2\n",
    "- TIER 1, 2 or 3 engine? (1 - 3) = 3\n",
    "- Fuel type (HFO = 1, MD/GO = 2, LNG = 3, Dual fuel = 4) = 2\n",
    "- Use of scrubbers if oil is used (NO = 0, YES=1) = 1"
   ]
  },
  {
   "cell_type": "markdown",
   "metadata": {},
   "source": [
    "#### Bulker values for T2 default column\n",
    "- Maximum deadweight = 40000 (UNCTAD2017, tab. 2.3, top 35 shipowners)\n",
    "- Capacity utilization (100 % ~ design condition) = 55 (based on: https://www.transportmeasures.org/en/wiki/manuals/sea/load-capacity-utilisation/)\n",
    "\n",
    "Results from T2, Emissions at Sea (T2P):\n",
    "- Energy demand per hour = 51 GJ/h\n",
    "- Energy demand = 0.172 MJ/(dwt*nm)\n",
    "- CO2 = 12.9 g/(dwt*nm)"
   ]
  },
  {
   "cell_type": "code",
   "execution_count": 148,
   "metadata": {
    "collapsed": true
   },
   "outputs": [],
   "source": [
    "# Emission conversion to g/MJ\n",
    "energy_demand = 0.172\n",
    "co2_bulker_mdo = 12.9 / energy_demand\n",
    "\n",
    "# Transport supply conversion to Ttkm/MJ\n",
    "ts_bulker_mdo = 1.852 / (energy_demand * 1000)"
   ]
  },
  {
   "cell_type": "code",
   "execution_count": 149,
   "metadata": {
    "collapsed": true
   },
   "outputs": [],
   "source": [
    "# 40000 (Handysize) dwt bulker daily charte costs [USD2016/d] (Rex2017, fig. T.2: http://www.shipfinance.dk/media/1735/shipping-market-review-may-2017.pdf)\n",
    "charter_bulker = 6000\n",
    "\n",
    "# Currency exchange rate [EUR2016/USD2016] (T1)\n",
    "rate = 0.903423977\n",
    "\n",
    "# Conversion GJ/h to MJ/a with 7000 h/a (own assumption)\n",
    "flh = 7000\n",
    "energy_demand = 51 * 1000 * flh\n",
    "\n",
    "# Energy specific new-build costs [EUR2016/MJ]\n",
    "charter_bulker = charter_bulker * rate * 365\n",
    "sc_bulker_mdo = charter_bulker / energy_demand"
   ]
  },
  {
   "cell_type": "code",
   "execution_count": 150,
   "metadata": {
    "collapsed": true
   },
   "outputs": [],
   "source": [
    "# Handysize bulker operation costs [USD2011/a] (Greiner2012, p. 13)\n",
    "annual_oc_bulker = 5278\n",
    "\n",
    "# Currency exchange rate [EUR2016/USD2011] (T1)\n",
    "rate = 0.754374248\n",
    "\n",
    "# Energy specific operation costs [EUR2016/MJ]\n",
    "oc_bulker_mdo = annual_oc_bulker * rate / energy_demand"
   ]
  },
  {
   "cell_type": "markdown",
   "metadata": {},
   "source": [
    "#### Tanker values for T2 default column\n",
    "- Maximum deadweight = 40000 (UNCTAD2017, tab. 2.3, top 35 shipowners)\n",
    "- Capacity utilization (100 % ~ design condition) = 50 (based on: https://www.transportmeasures.org/en/wiki/manuals/sea/load-capacity-utilisation/)\n",
    "\n",
    "Results from T2, Emissions at Sea (T2P):\n",
    "- Energy demand per hour = 56.8 GJ/h\n",
    "- Energy demand = 0.201 MJ/(dwt*nm)\n",
    "- CO2 = 15.1 g/(dwt*nm)"
   ]
  },
  {
   "cell_type": "code",
   "execution_count": 151,
   "metadata": {
    "collapsed": true
   },
   "outputs": [],
   "source": [
    "# Emission conversion to g/MJ\n",
    "energy_demand = 0.201\n",
    "co2_tanker_mdo = 15.1 / energy_demand\n",
    "\n",
    "# Transport supply conversion to Ttkm/MJ\n",
    "ts_tanker_mdo = 1.852 / (energy_demand * 1000)"
   ]
  },
  {
   "cell_type": "code",
   "execution_count": 152,
   "metadata": {
    "collapsed": true
   },
   "outputs": [],
   "source": [
    "# 120000 (Aframax) dwt tanker daily charte costs [USD2016/d] (Rex2017, fig. T.2: http://www.shipfinance.dk/media/1735/shipping-market-review-may-2017.pdf)\n",
    "charter_tanker = 27500 * 40000 / 120000\n",
    "\n",
    "# Currency exchange rate [EUR2016/USD2016] (T1)\n",
    "rate = 0.903423977\n",
    "\n",
    "# Conversion GJ/h to MJ/a with 7000 h/a (assumption)\n",
    "flh = 7000\n",
    "energy_demand = 56.8 * 1000 * flh\n",
    "\n",
    "# Energy specific new-build costs [EUR2016/MJ]\n",
    "charter_tanker = charter_tanker * rate * 365\n",
    "sc_tanker_mdo = charter_tanker / energy_demand"
   ]
  },
  {
   "cell_type": "code",
   "execution_count": 153,
   "metadata": {
    "collapsed": true
   },
   "outputs": [],
   "source": [
    "# Handysize tanker operation costs [USD2011/a] (Greiner2012, p. 14)\n",
    "annual_oc_tanker = 7670\n",
    "\n",
    "# Currency exchange rate [EUR2016/USD2011] (T1)\n",
    "rate = 0.754374248\n",
    "\n",
    "# Energy specific operation costs [EUR2016/MJ]\n",
    "oc_tanker_mdo = annual_oc_tanker * rate / energy_demand"
   ]
  },
  {
   "cell_type": "markdown",
   "metadata": {},
   "source": [
    "#### Container-ship values for T2 default column\n",
    "- Container capacity = 2500 TEU(UNCTAD2017, tab. 2.4, top 20 owners subtotal)\n",
    "- Capacity utilization (100 % ~ design condition) = 73\n",
    "\n",
    "Results from T2, Emissions-ton (T2P):\n",
    "- Energy demand per hour = 153 GJ/h\n",
    "- Energy demand = 0.304 MJ/(dwt*nm)\n",
    "- CO2 = 22.8 g/(dwt*nm)"
   ]
  },
  {
   "cell_type": "code",
   "execution_count": 154,
   "metadata": {
    "collapsed": true
   },
   "outputs": [],
   "source": [
    "# Emission conversion to g/MJ\n",
    "energy_demand = 0.304\n",
    "co2_containership_mdo = 22.8 / energy_demand\n",
    "\n",
    "# Transport supply conversion to Ttkm/MJ\n",
    "ts_containership_mdo = 1.852 / (energy_demand * 1000)"
   ]
  },
  {
   "cell_type": "code",
   "execution_count": 155,
   "metadata": {
    "collapsed": true
   },
   "outputs": [],
   "source": [
    "# 2500 TEU container ship new-build costs [USD2016] (Rex2017, fig. C.3: http://www.shipfinance.dk/media/1735/shipping-market-review-may-2017.pdf)\n",
    "cs_25000TEU = 31000000\n",
    "\n",
    "# Currency exchange rate [EUR2016/USD2016] (T1)\n",
    "rate = 0.903423977\n",
    "\n",
    "# Conversion GJ/h to MJ/a with 7000 h/a (own assumption)\n",
    "flh = 7000\n",
    "energy_demand = 153 * 1000 * flh\n",
    "\n",
    "# Energy specific new-build costs\n",
    "sc_containership_mdo = cs_25000TEU * rate / energy_demand"
   ]
  },
  {
   "cell_type": "code",
   "execution_count": 156,
   "metadata": {
    "collapsed": true
   },
   "outputs": [],
   "source": [
    "# Main liner containership operation costs [USD2011/a] (Greiner2012, p. 15)\n",
    "annual_oc_containership = 7549\n",
    "\n",
    "# Currency exchange rate [EUR2016/USD2011] (T1)\n",
    "rate = 0.754374248\n",
    "\n",
    "# Energy specific operation costs [EUR2016/MJ]\n",
    "oc_containership_mdo = annual_oc_containership * rate / energy_demand"
   ]
  },
  {
   "cell_type": "markdown",
   "metadata": {},
   "source": [
    "#### Results IC_MDO"
   ]
  },
  {
   "cell_type": "code",
   "execution_count": 157,
   "metadata": {
    "scrolled": false
   },
   "outputs": [
    {
     "name": "stdout",
     "output_type": "stream",
     "text": [
      "mdo_co2:  74.31716417910448 g/MJ\n",
      "mdo_ts:   0.009400090931511354 Ttkm/MJ\n",
      "mdo_sc:  0.008453866852026102 EUR2016/MJ\n",
      "mdo_oc:  1.2351916258387597e-05 EUR2016/MJ\n"
     ]
    }
   ],
   "source": [
    "# Applying the ship type shares\n",
    "mdo_co2 = co2_bulker_mdo * share_bulker + co2_tanker_mdo * share_tanker + co2_containership_mdo * share_containership\n",
    "mdo_ts = ts_bulker_mdo * share_bulker + ts_tanker_mdo * share_tanker + ts_containership_mdo * share_containership\n",
    "mdo_sc = sc_bulker_mdo * share_bulker + sc_tanker_mdo * share_tanker + sc_containership_mdo * share_containership\n",
    "mdo_oc = oc_bulker_mdo * share_bulker + oc_tanker_mdo * share_tanker + oc_containership_mdo * share_containership\n",
    "\n",
    "\n",
    "# Print results\n",
    "print('mdo_co2: ', mdo_co2, 'g/MJ')\n",
    "print('mdo_ts:  ', mdo_ts, 'Ttkm/MJ')\n",
    "print('mdo_sc: ', mdo_sc, 'EUR2016/MJ')\n",
    "print('mdo_oc: ', mdo_oc, 'EUR2016/MJ')"
   ]
  },
  {
   "cell_type": "markdown",
   "metadata": {},
   "source": [
    "### Internal Combustion Liquified Natural Gas (IC_LNG)\n",
    "Values for T2 default column:\n",
    "- Main engine type (slow speed = 1, medium speed = 2) = 2\n",
    "- TIER 1, 2 or 3 engine? (1 - 3) = 3\n",
    "- Fuel type (HFO = 1, MD/GO = 2, LNG = 3, Dual fuel = 4) = 3\n",
    "- Use of scrubbers if oil is used (NO = 0, YES=1) = 0"
   ]
  },
  {
   "cell_type": "markdown",
   "metadata": {},
   "source": [
    "#### Bulker values for T2 default column\n",
    "- Maximum deadweight = 40000 (UNCTAD2017, tab. 2.3, top 35 shipowners)\n",
    "- Capacity utilization (100 % ~ design condition) = 55 (based on: https://www.transportmeasures.org/en/wiki/manuals/sea/load-capacity-utilisation/)\n",
    "\n",
    "Results from T2, Emissions at Sea (T2P):\n",
    "- Energy demand per hour = 47 GJ/h\n",
    "- Energy demand = 0.16 MJ/(dwt*nm)\n",
    "- CO2 = 8.8 g/(dwt*nm)"
   ]
  },
  {
   "cell_type": "code",
   "execution_count": 158,
   "metadata": {
    "collapsed": true
   },
   "outputs": [],
   "source": [
    "# Emission conversion to g/MJ\n",
    "energy_demand = 0.16\n",
    "co2_bulker_lng = 8.8 / energy_demand\n",
    "\n",
    "# Transport supply conversion to Ttkm/MJ\n",
    "ts_bulker_lng = 1.852 / (energy_demand * 1000)"
   ]
  },
  {
   "cell_type": "code",
   "execution_count": 159,
   "metadata": {
    "collapsed": true
   },
   "outputs": [],
   "source": [
    "# 40000 (Handysize) dwt bulker daily charte costs [USD2016/d] (Rex2017, fig. T.2: http://www.shipfinance.dk/media/1735/shipping-market-review-may-2017.pdf)\n",
    "charter_bulker = 6000\n",
    "\n",
    "# Currency exchange rate [EUR2016/USD2016] (T1)\n",
    "rate = 0.903423977\n",
    "\n",
    "# Conversion GJ/h to MJ/a with 7000 h/a (own assumption)\n",
    "flh = 7000\n",
    "energy_demand = 47 * 1000 * flh\n",
    "\n",
    "# Energy specific new-build costs\n",
    "charter_bulker = charter_bulker * rate * 365\n",
    "sc_bulker_lng = charter_bulker / energy_demand"
   ]
  },
  {
   "cell_type": "code",
   "execution_count": 160,
   "metadata": {
    "collapsed": true
   },
   "outputs": [],
   "source": [
    "# Handysize bulker operation costs [USD2011/a] (Greiner2012, p. 13)\n",
    "annual_oc_bulker = 5278\n",
    "\n",
    "# Currency exchange rate [EUR2016/USD2011] (T1)\n",
    "rate = 0.754374248\n",
    "\n",
    "# Energy specific operation costs [EUR2016/MJ]\n",
    "oc_bulker_lng = annual_oc_bulker * rate / energy_demand"
   ]
  },
  {
   "cell_type": "markdown",
   "metadata": {},
   "source": [
    "#### Tanker values for T2 default column\n",
    "- Maximum deadweight = 40000 (UNCTAD2017, tab. 2.3, top 35 shipowners)\n",
    "- Capacity utilization (100 % ~ design condition) = 0.5 (based on: https://www.transportmeasures.org/en/wiki/manuals/sea/load-capacity-utilisation/)\n",
    "\n",
    "Results from T2, Emissions at Sea (T2P):\n",
    "- Energy demand per hour = 52.7 GJ/h\n",
    "- Energy demand = 0.186 MJ/(dwt*nm)\n",
    "- CO2 = 10.2 g/(dwt*nm)"
   ]
  },
  {
   "cell_type": "code",
   "execution_count": 161,
   "metadata": {
    "collapsed": true
   },
   "outputs": [],
   "source": [
    "# Emission conversion to g/MJ\n",
    "energy_demand = 0.186\n",
    "co2_tanker_lng = 10.2 / energy_demand\n",
    "\n",
    "# Transport supply conversion to Ttkm/MJ\n",
    "ts_tanker_lng = 1.852 / (energy_demand * 1000)"
   ]
  },
  {
   "cell_type": "code",
   "execution_count": 162,
   "metadata": {
    "collapsed": true
   },
   "outputs": [],
   "source": [
    "# 120000 (Aframax) dwt tanker daily charte costs [USD2016/d] (Rex2017, fig. T.2: http://www.shipfinance.dk/media/1735/shipping-market-review-may-2017.pdf)\n",
    "charter_tanker = 27500 * 40000 / 120000\n",
    "\n",
    "# Currency exchange rate [EUR2016/USD2016] (T1)\n",
    "rate = 0.903423977\n",
    "\n",
    "# Conversion GJ/h to MJ/a with  7000 h/a (own assumption)\n",
    "flh = 7000\n",
    "energy_demand = 47 * 1000 * flh\n",
    "\n",
    "# Energy specific new-build costs\n",
    "charter_tanker = charter_tanker * rate * 365\n",
    "sc_tanker_lng = charter_tanker / energy_demand"
   ]
  },
  {
   "cell_type": "code",
   "execution_count": 163,
   "metadata": {
    "collapsed": true
   },
   "outputs": [],
   "source": [
    "# Handysize tanker operation costs [USD2011/a] (Greiner2012, p. 13)\n",
    "annual_oc_tanker = 5278\n",
    "\n",
    "# Currency exchange rate [EUR2016/USD2011] (T1)\n",
    "rate = 0.754374248\n",
    "\n",
    "# Energy specific operation costs [EUR2016/MJ]\n",
    "oc_tanker_lng = annual_oc_tanker * rate / energy_demand"
   ]
  },
  {
   "cell_type": "markdown",
   "metadata": {},
   "source": [
    "#### Container-ship values for T2 default column\n",
    "- Container capacity = 2500 TEU(UNCTAD2017, tab. 2.4, top 20 owners subtotal)\n",
    "- Capacity utilization (100 % ~ design condition) = 0.73\n",
    "\n",
    "Results from T2, Emissions-ton (T2P):\n",
    "- Energy demand per hour = 142 GJ/h\n",
    "- Energy demand = 0.282 MJ/(dwt*nm)\n",
    "- CO2 = 15.5 g/(dwt*nm)"
   ]
  },
  {
   "cell_type": "code",
   "execution_count": 164,
   "metadata": {
    "collapsed": true
   },
   "outputs": [],
   "source": [
    "# Emission conversion to g/MJ\n",
    "energy_demand = 0.282\n",
    "co2_containership_lng = 15.5 / energy_demand\n",
    "\n",
    "# Transport supply conversion to Ttkm/MJ\n",
    "ts_containership_lng = 1.852 / (energy_demand * 1000)"
   ]
  },
  {
   "cell_type": "code",
   "execution_count": 171,
   "metadata": {
    "collapsed": true
   },
   "outputs": [],
   "source": [
    "# 2500 TEU container ship new-build costs [USD2016] (Rex2017, fig. C.3: http://www.shipfinance.dk/media/1735/shipping-market-review-may-2017.pdf)\n",
    "cs_25000TEU = 31000000\n",
    "\n",
    "# Currency exchange rate [EUR2016/USD2016] (T1)\n",
    "rate = 0.903423977\n",
    "\n",
    "# Conversion GJ/h to MJ/a with 7000 h/a (assumption)\n",
    "flh = 7000\n",
    "energy_demand = 142 * 1000 * flh\n",
    "\n",
    "# Energy specific new-build costs [EUR2016/MJ]\n",
    "sc_containership_lng = cs_25000TEU * rate / energy_demand"
   ]
  },
  {
   "cell_type": "code",
   "execution_count": 166,
   "metadata": {
    "collapsed": true
   },
   "outputs": [],
   "source": [
    "# Handysize containership operation costs [USD2011/a] (Greiner2012, p. 13)\n",
    "annual_oc_containership = 5278\n",
    "\n",
    "# Currency exchange rate [EUR2016/USD2011] (T1)\n",
    "rate = 0.754374248\n",
    "\n",
    "# Energy specific operation costs [EUR2016/MJ]\n",
    "oc_containership_lng = annual_oc_containership * rate / energy_demand"
   ]
  },
  {
   "cell_type": "markdown",
   "metadata": {},
   "source": [
    "#### Results IC_LNG"
   ]
  },
  {
   "cell_type": "code",
   "execution_count": 167,
   "metadata": {
    "scrolled": true
   },
   "outputs": [
    {
     "name": "stdout",
     "output_type": "stream",
     "text": [
      "lng_co2:  54.35971173644475 g/MJ\n",
      "lng_ts:   0.010134838023335622 Ttkm/MJ\n",
      "lng_sc:  0.00966197033947194 EUR2016/MJ\n",
      "lng_oc:  1.125238599047554e-05 EUR2016/MJ\n"
     ]
    }
   ],
   "source": [
    "# Applying the ship type shares\n",
    "lng_co2 = co2_bulker_lng * share_bulker + co2_tanker_lng * share_tanker + co2_containership_lng * share_containership\n",
    "lng_ts = ts_bulker_lng * share_bulker + ts_tanker_lng * share_tanker + ts_containership_lng * share_containership\n",
    "lng_sc = sc_bulker_lng * share_bulker + sc_tanker_lng * share_tanker + sc_containership_lng * share_containership\n",
    "lng_oc = oc_bulker_lng * share_bulker + oc_tanker_lng * share_tanker + oc_containership_lng * share_containership\n",
    "\n",
    "\n",
    "# Print results\n",
    "print('lng_co2: ', lng_co2, 'g/MJ')\n",
    "print('lng_ts:  ', lng_ts, 'Ttkm/MJ')\n",
    "print('lng_sc: ', lng_sc, 'EUR2016/MJ')\n",
    "print('lng_oc: ', lng_oc, 'EUR2016/MJ')"
   ]
  },
  {
   "cell_type": "markdown",
   "metadata": {},
   "source": [
    "### Internal Combustion Heavy Fuel Oil Scrubber Refit Costs"
   ]
  },
  {
   "cell_type": "code",
   "execution_count": 174,
   "metadata": {},
   "outputs": [
    {
     "name": "stdout",
     "output_type": "stream",
     "text": [
      "sc_hfo_rf:  1.689791855669384e-05 EUR2016/MJ\n"
     ]
    }
   ],
   "source": [
    "# Conversion cost for a scrubber [USD2013/MW] with a 10 MW engine (McGill2013, p. 31)\n",
    "cc = 1000000 / 10\n",
    "\n",
    "# Currency exchange rate [EUR2016/USD2013] (T1)\n",
    "rate = 0.758861527\n",
    "\n",
    "# Conversion GJ/h to MJ/a with 7000 h/a and 15 a lifetime (own assumptions)\n",
    "ls = 15\n",
    "flh = 7000\n",
    "energy_demand = 49 * 1000 * flh\n",
    "\n",
    "# Energy specific new-build costs [EUR2016/MJ]\n",
    "sc_hfo_rf = cc * rate * annuity(periods=ls, rate=0.0175) / energy_demand\n",
    "\n",
    "# Print results\n",
    "print('sc_hfo_rf: ', sc_hfo_rf, 'EUR2016/MJ')"
   ]
  },
  {
   "cell_type": "markdown",
   "metadata": {},
   "source": [
    "## Fuel Amount 2016 $\\left[MJ\\right]$\n",
    "The fuel amount is calculated as the product of the energy specific transport supply and the associated cargo distance."
   ]
  },
  {
   "cell_type": "code",
   "execution_count": 168,
   "metadata": {},
   "outputs": [
    {
     "name": "stdout",
     "output_type": "stream",
     "text": [
      "fa_hfo:  9925387565.163473 MJ\n",
      "fa_mdo:  5994432956.882425 MJ\n"
     ]
    }
   ],
   "source": [
    "# Cargo distance per fuel type [Ttkm] in 2016\n",
    "cd_hfo = 96136983.0\n",
    "cd_mdo = 56369981.0\n",
    "\n",
    "# Calculating fuel consumption [MJ]\n",
    "fa_hfo = cd_hfo / hfo_old_ts\n",
    "fa_mdo = cd_mdo / mdo_old_ts\n",
    "\n",
    "# Print results\n",
    "print('fa_hfo: ', fa_hfo, 'MJ')\n",
    "print('fa_mdo: ', fa_mdo, 'MJ')"
   ]
  },
  {
   "cell_type": "markdown",
   "metadata": {},
   "source": [
    "## Lifetime $\\left[Year\\right]$\n",
    "If no other source is more specific the ship lifetime is assumed to be 25 years."
   ]
  },
  {
   "cell_type": "code",
   "execution_count": 169,
   "metadata": {},
   "outputs": [
    {
     "name": "stdout",
     "output_type": "stream",
     "text": [
      "Age of ship stock:  14.0814 Years2016\n"
     ]
    }
   ],
   "source": [
    "# Average ship age by ship type [Years2016] (UNCTAD2017, p. 27 tab. 2.2)\n",
    "age_bulker = 8.8\n",
    "age_tanker = 18.36\n",
    "age_containership = 11.1\n",
    "\n",
    "# Average age of ship stock\n",
    "age_shipstock = age_bulker * share_bulker + age_tanker * share_tanker + age_containership * share_containership\n",
    "\n",
    "# Print result\n",
    "print('Age of ship stock: ', age_shipstock, 'Years2016')"
   ]
  },
  {
   "cell_type": "code",
   "execution_count": 170,
   "metadata": {},
   "outputs": [
    {
     "name": "stdout",
     "output_type": "stream",
     "text": [
      "ls_hfo_old:  11.0\n",
      "ls_mdo_old:  11.0\n"
     ]
    }
   ],
   "source": [
    "# Remaining lifetime of ship stock\n",
    "ls_hfo_old = 25 - age_shipstock\n",
    "ls_mdo_old = 25 - age_shipstock\n",
    "\n",
    "# Print result\n",
    "print('ls_hfo_old: ', round(ls_hfo_old, 0))\n",
    "print('ls_mdo_old: ', round(ls_mdo_old, 0))"
   ]
  },
  {
   "cell_type": "markdown",
   "metadata": {},
   "source": [
    "## Ship And Operation Costs $\\left[\\frac{€_{2016}}{MJ_{fuel}}\\right]$"
   ]
  },
  {
   "cell_type": "markdown",
   "metadata": {},
   "source": [
    "### Internal Combustion Methanol (IC_CH3OH)"
   ]
  },
  {
   "cell_type": "code",
   "execution_count": 34,
   "metadata": {},
   "outputs": [
    {
     "name": "stdout",
     "output_type": "stream",
     "text": [
      "ch3oh_sc:  0.109294848954 EUR2016/MJ\n"
     ]
    }
   ],
   "source": [
    "# Energy specific conversion cost from ic_hfo to ic_ch3oh [EUR2015/kW] (Andersson2015, p. 32)\n",
    "conv_cost = 300\n",
    "\n",
    "# Exchange rate [EUR2016/EUR2015] (T1)\n",
    "rate = 1.0025\n",
    "\n",
    "# Engine power of average vessel [kW] (T2)\n",
    "power_bulker_hfo = 8495\n",
    "power_tanker_hfo = 10132\n",
    "power_containership_hfo = 25981\n",
    "\n",
    "aver_power_hfo = (power_bulker_hfo * share_bulker +\n",
    "                  power_tanker_hfo * share_tanker +\n",
    "                  power_containership_hfo * share_containership)\n",
    "\n",
    "# Ship specific average new-build costs [EUR2016]\n",
    "aver_sc_hfo = (sc_40Tdwt_bulker_hfo * share_bulker +\n",
    "               sc_40Tdwt_tanker_hfo * share_tanker +\n",
    "               sc_2500TEU_hfo * share_containership)\n",
    "\n",
    "# Absolute conversion costs\n",
    "cc_ic_ch3oh = conv_cost * aver_power_hfo\n",
    "\n",
    "# Share of conversion costs ic_hfo to ic_ch3oh\n",
    "conv_share_ch3oh = cc_ic_ch3oh / aver_sc_hfo\n",
    "\n",
    "# Energy specific new-build costs\n",
    "ch3oh_sc = hfo_sc * (1 + conv_share_ch3oh)\n",
    "\n",
    "# Print results\n",
    "print('ch3oh_sc: ', ch3oh_sc, 'EUR2016/MJ')"
   ]
  },
  {
   "cell_type": "markdown",
   "metadata": {},
   "source": [
    "### Fuel Cells (FC)"
   ]
  },
  {
   "cell_type": "code",
   "execution_count": 78,
   "metadata": {},
   "outputs": [
    {
     "name": "stdout",
     "output_type": "stream",
     "text": [
      "fc_sc:  0.134802175658 EUR2016/MJ\n"
     ]
    }
   ],
   "source": [
    "# Energy specific conversion cost from ic_hfo to ic_ch3oh [EUR2015/kW] (vanBiert2016, p. 358)\n",
    "conv_cost = 1500\n",
    "\n",
    "# Exchange rate [EUR2016/EUR2015] (T1)\n",
    "rate = 1.0025\n",
    "\n",
    "# Engine power of average vessel [kW] (T2)\n",
    "power_bulker_hfo = 8495\n",
    "power_tanker_hfo = 10132\n",
    "power_containership_hfo = 25981\n",
    "\n",
    "aver_power_hfo = (power_bulker_hfo * share_bulker +\n",
    "                  power_tanker_hfo * share_tanker +\n",
    "                  power_containership_hfo * share_containership)\n",
    "\n",
    "# Ship specific average new-build costs [EUR2016]\n",
    "aver_sc_hfo = (sc_40Tdwt_bulker_hfo * share_bulker +\n",
    "               sc_40Tdwt_tanker_hfo * share_tanker +\n",
    "               sc_2500TEU_hfo * share_containership)\n",
    "\n",
    "# Absolute conversion costs\n",
    "cc_fc = conv_cost * aver_power_hfo\n",
    "\n",
    "# Share of conversion costs ic_hfo to ic_ch3oh\n",
    "conv_share = cc_fc / aver_sc_hfo\n",
    "\n",
    "# Energy specific new-build costs\n",
    "fc_sc = hfo_sc * (1 + conv_share)\n",
    "\n",
    "# Print results\n",
    "print('fc_sc: ', fc_sc, 'EUR2016/MJ')"
   ]
  },
  {
   "cell_type": "markdown",
   "metadata": {},
   "source": [
    "### Electric Motor with Battery (EM_ELEC)"
   ]
  },
  {
   "cell_type": "code",
   "execution_count": 115,
   "metadata": {},
   "outputs": [
    {
     "name": "stdout",
     "output_type": "stream",
     "text": [
      "em_elec_sc:  1.0470547118197664 EUR2016/MJ\n",
      "em_elec_oc:  3.1464585324725463e-06 EUR2016/MJ\n"
     ]
    }
   ],
   "source": [
    "# CAPEX of ReVolt [USD2015] incl. battery change (DNVGL2015, p. 25)\n",
    "em_elec_capex = 9500000\n",
    "\n",
    "# Annual OPEX of ReVolt compared to ic_mdo (equal to ic_hfo) [-] (DNVGL2015, p. 26)\n",
    "em_elec_opex_share = 1/4.5\n",
    "\n",
    "# Battery capacity [MWh per load] (DNVGL2015, p. 26)\n",
    "energy = 5.422\n",
    "\n",
    "# Exchange rate [EUR2016/USD2015] (T1)\n",
    "rate = 0.903560162\n",
    "\n",
    "# Conversion from [MWh per load] to [MJ/a] with 7000 h/a, range of 100 nm at 6 kn\n",
    "conv = 3600 * 7000 / (100 / 6)\n",
    "\n",
    "# Ship and operation costs [EUR2016/MJ]\n",
    "em_elec_sc = em_elec_capex * rate / (energy * conv)\n",
    "em_elec_oc = hfo_oc * em_elec_opex_share\n",
    "\n",
    "# Print results\n",
    "print('em_elec_sc: ', em_elec_sc, 'EUR2016/MJ')\n",
    "print('em_elec_oc: ', em_elec_oc, 'EUR2016/MJ')"
   ]
  },
  {
   "cell_type": "markdown",
   "metadata": {},
   "source": [
    "## Transport Supply $\\left[\\frac{Ttkm}{MJ_{fuel}}\\right]$\n",
    "\n",
    "If no information about the transport supply is available, the engine efficiency share to the compared propellant is directly applied.\n",
    "\n",
    "Source for LHV: https://www.engineeringtoolbox.com/fuels-higher-calorific-values-d_169.html"
   ]
  },
  {
   "cell_type": "markdown",
   "metadata": {},
   "source": [
    "### Internal Combustion Hydrogen (ic_h2)"
   ]
  },
  {
   "cell_type": "code",
   "execution_count": 93,
   "metadata": {
    "scrolled": true
   },
   "outputs": [
    {
     "name": "stdout",
     "output_type": "stream",
     "text": [
      "wind_elec_ts:  0.03558 Ttkm/MJ\n"
     ]
    }
   ],
   "source": [
    "# Calorific values [MJ/kg]\n",
    "eff_ic_h2 = \n",
    "eff_ic_lng = 1\n",
    "\n",
    "# Transport supply of ic_lng\n",
    "\n",
    "# Applying the share to the transport supply\n",
    "ic_h2_ts = ic_lng_ts\n",
    "\n",
    "# Print results\n",
    "print('wind_elec_ts: ', wind_elec_ts, 'Ttkm/MJ')"
   ]
  },
  {
   "cell_type": "markdown",
   "metadata": {},
   "source": [
    "### Wind Power with Electric Support Propulsion (wind_elec)\n",
    "Future ocean going wind powerd cargo vessels could reach electrical support by one third on the long range (SOURCE???)"
   ]
  },
  {
   "cell_type": "code",
   "execution_count": 93,
   "metadata": {
    "scrolled": true
   },
   "outputs": [
    {
     "name": "stdout",
     "output_type": "stream",
     "text": [
      "wind_elec_ts:  0.03558 Ttkm/MJ\n"
     ]
    }
   ],
   "source": [
    "# Applying the assumption of one third electrical support\n",
    "em_elec_ts = 0.01186\n",
    "wind_elec_ts = 3 * em_elec_ts\n",
    "\n",
    "# Print results\n",
    "print('wind_elec_ts: ', wind_elec_ts, 'Ttkm/MJ')"
   ]
  },
  {
   "cell_type": "markdown",
   "metadata": {},
   "source": [
    "### Hydrogen Fuel Cell (fc_h2)\n",
    "According to the US Department of Energy hydrogen fuel cells are roughly 50% more fuel efficient than conventional diesel engines. This share can directly be applied to the transport supply, when taking the reduced transport capaity due to laarge tanks into account."
   ]
  },
  {
   "cell_type": "code",
   "execution_count": 91,
   "metadata": {},
   "outputs": [
    {
     "name": "stdout",
     "output_type": "stream",
     "text": [
      "fc_h2_ts:  0.022472908310672512 Ttkm/MJ\n"
     ]
    }
   ],
   "source": [
    "# Fuel efficiency of fuel cells compared to diesel combustion [-] (USDE2015, p. 1: https://www.energy.gov/sites/prod/files/2015/11/f27/fcto_fuel_cells_fact_sheet.pdf)\n",
    "n_fc = 0.5\n",
    "\n",
    "# Energy specific transport capacity loss [t/kWh] (Raucci2017, p. 83)\n",
    "cargo_loss = 0.52\n",
    "\n",
    "# Conversion of the cargo loss to a share compared to ic_mdo\n",
    "# Converstion from cargo [t] / energy demand [GJ/nm] to [t/kWh] with the average distance of 1572 nm\n",
    "cargo_ic_mdo = 40000 * 3.6 / (4 * 1572)\n",
    "cargo_loss_share = cargo_loss / cargo_ic_mdo\n",
    "\n",
    "# Transport supply of fc_h2 [Ttkm/MJ]\n",
    "fc_h2_ts = mdo_ts / (1 - n_fc - round(cargo_loss_share, 3))\n",
    "\n",
    "# Print result\n",
    "print('fc_h2_ts: ', fc_h2_ts, 'Ttkm/MJ')"
   ]
  },
  {
   "cell_type": "markdown",
   "metadata": {},
   "source": [
    "## Emissions $\\left[\\frac{g}{MJ_{fuel}}\\right]$"
   ]
  },
  {
   "cell_type": "code",
   "execution_count": 119,
   "metadata": {},
   "outputs": [
    {
     "name": "stdout",
     "output_type": "stream",
     "text": [
      "ef_ch4_t2p:  0.2276283318741409 g_ch4/MJ\n",
      "ef_co2_t2p:  113.81416593707044 g_co2/MJ\n"
     ]
    }
   ],
   "source": [
    "# Average tank to wheel emissions [g/mile] (Brinkman2005, Appendix D, p. 229: https://www.energy.gov/sites/prod/files/2014/04/f14/well_to_wheels_analysis_0.pdf)\n",
    "t2w_ch4 = 0.6\n",
    "t2w_co2 = 300\n",
    "\n",
    "# Energy demand [btu/mile] (Brinkman2005, fig. 4-19, p. 122)\n",
    "energy_demand = 2500\n",
    "\n",
    "# Conversion from [btu] to [MJ]\n",
    "conv = 1054.3503 / 1000 / 1000\n",
    "\n",
    "# Emissions from tank to wheel (propeller) [g/MJ]\n",
    "ef_ch4_t2p = t2w_ch4 / (energy_demand * conv)\n",
    "ef_co2_t2p = t2w_co2 / (energy_demand * conv)\n",
    "\n",
    "# Print result\n",
    "print('ef_ch4_t2p: ', ef_ch4_t2p, 'g_ch4/MJ')\n",
    "print('ef_co2_t2p: ', ef_co2_t2p, 'g_co2/MJ')"
   ]
  }
 ],
 "metadata": {
  "kernelspec": {
   "display_name": "Python 3",
   "language": "python",
   "name": "python3"
  },
  "language_info": {
   "codemirror_mode": {
    "name": "ipython",
    "version": 3
   },
   "file_extension": ".py",
   "mimetype": "text/x-python",
   "name": "python",
   "nbconvert_exporter": "python",
   "pygments_lexer": "ipython3",
   "version": "3.6.3"
  }
 },
 "nbformat": 4,
 "nbformat_minor": 2
}
