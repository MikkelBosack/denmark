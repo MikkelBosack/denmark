{
 "cells": [
  {
   "cell_type": "markdown",
   "metadata": {},
   "source": [
    "# Fuel Data Processing\n",
    "Converts each value of the __*fuel_data*__ table to the required unit.\n",
    "\n",
    "The auxiliary tools and sources are stated within the script. Further, the main source can be found in the fuel data reference table."
   ]
  },
  {
   "cell_type": "markdown",
   "metadata": {},
   "source": [
    "## Content\n",
    "> ### Tools\n",
    "> ### Fuel costs\n",
    "    - HFO\n",
    "    - MDO/MGO\n",
    "    - BDO\n",
    "    - LNG\n",
    "    - LBG\n",
    "    - H2\n",
    "    - CH3OH\n",
    "    - NH3\n",
    "    - ELEC\n",
    "> ### Emissions\n",
    "    - HFO\n",
    "    - MDO\n",
    "    - BDO\n",
    "    - LNG\n",
    "    - LBG\n",
    "    - CH3OH"
   ]
  },
  {
   "cell_type": "markdown",
   "metadata": {},
   "source": [
    "## Script Set-Up"
   ]
  },
  {
   "cell_type": "code",
   "execution_count": 2,
   "metadata": {
    "collapsed": true
   },
   "outputs": [],
   "source": [
    "# Function for the annuity calculation\n",
    "def annuity(rate, periods):\n",
    "    i = rate\n",
    "    n = periods\n",
    "    if i > 1:\n",
    "        i = i / 100\n",
    "    q = (1 + i)**n\n",
    "    a = (q * i)/(q - 1)\n",
    "    return a"
   ]
  },
  {
   "cell_type": "markdown",
   "metadata": {},
   "source": [
    "## Tools\n",
    "> 1. JGB2016: Base year currency converter 2016 JGB\n",
    "2. Kristenen2015: DTU ship emission calculation tool (https://www.danishshipping.dk/en/policy/klimapolitik/beregningsvaerktoejer/)\n",
    "3. Energinet2017: LNG plant spreadsheet"
   ]
  },
  {
   "cell_type": "markdown",
   "metadata": {},
   "source": [
    "## Fuel costs $\\left[\\frac{€_{2016}}{MJ_{fuel}}\\right]$\n",
    "\n",
    "The fuel costs are split into variable and fixed costs. Fixed costs refer to all costs components that are effective over the full technical lifetime.\n",
    "\n",
    "Liquefaction and upgrading plants are located at the port side. Hence, no additional transport to consider for the final product."
   ]
  },
  {
   "cell_type": "code",
   "execution_count": 3,
   "metadata": {
    "collapsed": true
   },
   "outputs": [],
   "source": [
    "# Interest i for the annuity calculation\n",
    "i = 0.03"
   ]
  },
  {
   "cell_type": "markdown",
   "metadata": {},
   "source": [
    "### Heavy Fuel Oil (HFO)"
   ]
  },
  {
   "cell_type": "code",
   "execution_count": 5,
   "metadata": {},
   "outputs": [
    {
     "name": "stdout",
     "output_type": "stream",
     "text": [
      "vc:  0.006547147021466296\n",
      "fc:  0.0\n"
     ]
    }
   ],
   "source": [
    "# Original value [USD2016/tonne] (http://www.bunkerindex.com/news/article.php?article_id=18387, BIX 380,aver. 2015/16)\n",
    "total = (269.59 + 317.42) / 2\n",
    "\n",
    "# Exchange rate [EUR2016/USD2016] (T1)\n",
    "rate = 0.903423977\n",
    "\n",
    "# Lower heating value [MJ/tonne] (T2)\n",
    "lhv = 40500\n",
    "\n",
    "# Variable share\n",
    "vs = 1\n",
    "\n",
    "# Fixed share\n",
    "fs = 0\n",
    "\n",
    "# Lifetime infrastructure [years]\n",
    "li = 40\n",
    "\n",
    "# Variable costs\n",
    "vc = total * vs * rate / lhv\n",
    "\n",
    "# Fixed costs\n",
    "fc = (vc/vs) * fs * annuity(periods=li, rate=i)\n",
    "\n",
    "# Result\n",
    "print('vc: ', vc)\n",
    "print('fc: ', fc)"
   ]
  },
  {
   "cell_type": "markdown",
   "metadata": {},
   "source": [
    "### Marine Diesel/Gas Oil (MDO/MGO)"
   ]
  },
  {
   "cell_type": "code",
   "execution_count": 6,
   "metadata": {},
   "outputs": [
    {
     "name": "stdout",
     "output_type": "stream",
     "text": [
      "vc:  0.012774668924422248\n",
      "fc:  0.0\n"
     ]
    }
   ],
   "source": [
    "# Original value [USD2016/tonne] (http://www.bunkerindex.com/news/article.php?article_id=18387, BIX MGO, aver. 2015/16)\n",
    "total = (547.68 + 659.9) / 2\n",
    "\n",
    "# Exchange rate [EUR2016/USD2016] (T1)\n",
    "rate = 0.903423977\n",
    "\n",
    "# Lower heating value [MJ/tonne] (T2)\n",
    "lhv = 42700\n",
    "\n",
    "# Variable share\n",
    "vs = 1\n",
    "\n",
    "# Fixed share\n",
    "fs = 0\n",
    "\n",
    "# Lifetime infrastructure [years]\n",
    "li = 40\n",
    "\n",
    "# Variable costs\n",
    "vc = total * vs * rate / lhv\n",
    "\n",
    "# Fixed costs\n",
    "fc = (vc/vs) * fs * annuity(periods=li, rate=i)\n",
    "\n",
    "# Result\n",
    "print('vc: ', vc)\n",
    "print('fc: ', fc)"
   ]
  },
  {
   "cell_type": "markdown",
   "metadata": {},
   "source": [
    "### Biodiesel Oil (BDO)"
   ]
  },
  {
   "cell_type": "code",
   "execution_count": 7,
   "metadata": {},
   "outputs": [
    {
     "name": "stdout",
     "output_type": "stream",
     "text": [
      "vc:  0.024239977917896432\n",
      "fc:  0.0\n"
     ]
    }
   ],
   "source": [
    "# Original value [USD2016/tonne] (LloydsRegisterAndUMAS2018, p. 5: https://www.ucl.ac.uk/bartlett/energy/sites/bartlett/files/ssi_zev_report_final_may_2018.pdf)\n",
    "total = 1000\n",
    "\n",
    "# Exchange rate [EUR2016/USD2016] (T1)\n",
    "rate = 0.903423977\n",
    "\n",
    "# Lower heating value [MJ/tonne] (T2)\n",
    "lhv = 37270\n",
    "\n",
    "# Variable share\n",
    "vs = 1\n",
    "\n",
    "# Fixed share\n",
    "fs = 0\n",
    "\n",
    "# Lifetime infrastructure [years]\n",
    "li = 40\n",
    "\n",
    "# Variable costs\n",
    "vc = total * vs * rate / lhv\n",
    "\n",
    "# Fixed costs\n",
    "fc = (vc/vs) * fs * annuity(periods=li, rate=i)\n",
    "\n",
    "# Result\n",
    "print('vc: ', vc)\n",
    "print('fc: ', fc)"
   ]
  },
  {
   "cell_type": "markdown",
   "metadata": {},
   "source": [
    "### Liquefied Natural Gas (LNG)"
   ]
  },
  {
   "cell_type": "code",
   "execution_count": 19,
   "metadata": {},
   "outputs": [
    {
     "name": "stdout",
     "output_type": "stream",
     "text": [
      "vc:  0.004887563640555556\n",
      "fc:  0.00013935894310595224\n"
     ]
    }
   ],
   "source": [
    "# Original value [DKK2016/kWh] (T3)\n",
    "total = 0.212547802\n",
    "\n",
    "# Exchange rate [EUR2016/DKK2016] (T1)\n",
    "rate = 0.134314726\n",
    "\n",
    "# Energy conversion [MJ/kWh]\n",
    "conv = 3.6\n",
    "\n",
    "# Variable share (Feed gas price and OPEX) (T3)\n",
    "vs = (0.1 + 0.031) / total\n",
    "\n",
    "# Fixed share\n",
    "fs = 1 - vs\n",
    "\n",
    "# Lifetime infrastructure [years] (T3)\n",
    "li = 36\n",
    "\n",
    "# Variable costs\n",
    "vc = total * vs * rate / conv\n",
    "\n",
    "# Fixed costs\n",
    "fc = (vc/vs) * fs * annuity(periods=li, rate=i)\n",
    "\n",
    "# Result\n",
    "print('vc: ', vc)\n",
    "print('fc: ', fc)"
   ]
  },
  {
   "cell_type": "markdown",
   "metadata": {},
   "source": [
    "### Liquefied Biogas (LBG)\n",
    "Methane"
   ]
  },
  {
   "cell_type": "code",
   "execution_count": 20,
   "metadata": {},
   "outputs": [
    {
     "name": "stdout",
     "output_type": "stream",
     "text": [
      "vc:  0.01245906613014\n",
      "fc:  0.0011237844356436777\n"
     ]
    }
   ],
   "source": [
    "# Original value [USD2005/GJ] (Chum2011, p. 296: http://www.ipcc.ch/pdf/special-reports/srren/Chapter%202%20Bioenergy.pdf)\n",
    "total = 30\n",
    "\n",
    "# Exchange rate [EUR2016/USD2005] (T1)\n",
    "rate = 0.972604694\n",
    "\n",
    "# Energy conversion [MJ/GJ]\n",
    "conv = 1000\n",
    "\n",
    "# Variable share (p. 159: http://www.suscon.org/pdfs/cowpower/biomethaneSourcebook/Chapter_8.pdf)\n",
    "vs = 1 - (8.595 / 15)\n",
    "\n",
    "# Fixed share (capex to total costs)\n",
    "fs = 1 - vs\n",
    "\n",
    "# Lifetime infrastructure [years]\n",
    "li = 20\n",
    "\n",
    "# Variable costs\n",
    "vc = total * vs * rate / conv\n",
    "\n",
    "# Fixed costs\n",
    "fc = (vc/vs) * fs * annuity(periods=li, rate=i)\n",
    "\n",
    "# Result\n",
    "print('vc: ', vc)\n",
    "print('fc: ', fc)"
   ]
  },
  {
   "cell_type": "code",
   "execution_count": 21,
   "metadata": {
    "scrolled": true
   },
   "outputs": [
    {
     "name": "stdout",
     "output_type": "stream",
     "text": [
      "vc:  0.02784722222222222\n",
      "fc:  0.0015992066865757107\n"
     ]
    }
   ],
   "source": [
    "# Green methane from renewable energies at a price of 50 €/MWh, reference base scenario 2015.\n",
    "# Original value [EUR2015/MWh] (Brynolf2018, p. 12, Fig. 4: https://www.sciencedirect.com/science/article/pii/S1364032117309358?via%3Dihub)\n",
    "total = 200\n",
    "\n",
    "# Exchange rate [EUR2016/EUR2015] (T1)\n",
    "rate = 1.0025\n",
    "\n",
    "# Energy conversion [MJ/MWh]\n",
    "conv = 3600\n",
    "\n",
    "# Variable share (Electricity and o&m fuel synthesis)\n",
    "vs = 0.5\n",
    "\n",
    "# Fixed share (Investment electrolise, stack replacement and other)\n",
    "fs = 1 - vs\n",
    "\n",
    "# Lifetime infrastructure [years]\n",
    "li = 25\n",
    "\n",
    "# Variable costs\n",
    "vc = total * vs * rate / conv\n",
    "\n",
    "# Fixed costs\n",
    "fc = (vc/vs) * fs * annuity(periods=li, rate=i)\n",
    "\n",
    "# Result\n",
    "print('vc: ', vc)\n",
    "print('fc: ', fc)"
   ]
  },
  {
   "cell_type": "markdown",
   "metadata": {},
   "source": [
    "### Hydrogen (H2)"
   ]
  },
  {
   "cell_type": "code",
   "execution_count": 22,
   "metadata": {},
   "outputs": [
    {
     "name": "stdout",
     "output_type": "stream",
     "text": [
      "vc:  0.02195500351969175\n",
      "fc:  0.001269835482197155\n"
     ]
    }
   ],
   "source": [
    "# Green hydrogen from renewable energies at a price of 35 €/MWh\n",
    "# Original value [EUR2016/kg] (Borup2017, p. 13: http://hydrogenvalley.dk/wp-content/uploads/2017/09/FCB-CPH17_NELImplementing-green-hydrogen-supply-for-fuel-cell-buses-in-the-Nordic-countries.pdf)\n",
    "total = 4.9\n",
    "\n",
    "# Exchange rate [EUR2016/EUR2016]\n",
    "rate = 1\n",
    "\n",
    "# Lower heating value [MJ/kg] (https://www.h2tools.org/hyarc/calculator-tools/lower-and-higher-heating-values-fuels)\n",
    "lhv = 119.96\n",
    "\n",
    "# Energy conversion [MJ/MWh]\n",
    "conv = 3600\n",
    "\n",
    "# Variable share (Electricity share of electrolysis and distribution)\n",
    "vs = (2.5 * (1 - 35/(2.5 * conv / lhv)) + 1.3) / total\n",
    "\n",
    "# Fixed share\n",
    "fs = 1 - vs\n",
    "\n",
    "# Lifetime infrastructure [years]\n",
    "li = 20\n",
    "\n",
    "# Variable costs\n",
    "vc = total * vs * rate / lhv\n",
    "\n",
    "# Fixed costs\n",
    "fc = (vc/vs) * fs * annuity(periods=li, rate=i)\n",
    "\n",
    "# Result\n",
    "print('vc: ', vc)\n",
    "print('fc: ', fc)"
   ]
  },
  {
   "cell_type": "code",
   "execution_count": 23,
   "metadata": {
    "scrolled": true
   },
   "outputs": [
    {
     "name": "stdout",
     "output_type": "stream",
     "text": [
      "vc:  0.020885416666666667\n",
      "fc:  0.0011994050149317832\n"
     ]
    }
   ],
   "source": [
    "# Green hydrogen from renewable energies at a price of 50 €/MWh, reference base scenario 2015.\n",
    "# Original value [EUR2015/MWh] (Brynolf2018, p. 12, Fig. 4: https://www.sciencedirect.com/science/article/pii/S1364032117309358?via%3Dihub)\n",
    "total = 150\n",
    "\n",
    "# Exchange rate [EUR2016/EUR2015] (T1)\n",
    "rate = 1.0025\n",
    "\n",
    "# Energy conversion [MJ/MWh]\n",
    "conv = 3600\n",
    "\n",
    "# Variable share (Electricity)\n",
    "vs = 0.5\n",
    "\n",
    "# Fixed share (Investment electrolise, stack replacement and other)\n",
    "fs = 1 - vs\n",
    "\n",
    "# Lifetime infrastructure [years]\n",
    "li = 25\n",
    "\n",
    "# Variable costs\n",
    "vc = total * vs * rate / conv\n",
    "\n",
    "# Fixed costs\n",
    "fc = (vc/vs) * fs * annuity(periods=li, rate=i)\n",
    "\n",
    "# Result\n",
    "print('vc: ', vc)\n",
    "print('fc: ', fc)"
   ]
  },
  {
   "cell_type": "markdown",
   "metadata": {},
   "source": [
    "### Methanol (CH3OH)\n",
    "Methanol from renewable energies at a price of 50 €/MWh, reference base scenario 2015."
   ]
  },
  {
   "cell_type": "code",
   "execution_count": 26,
   "metadata": {
    "scrolled": true
   },
   "outputs": [
    {
     "name": "stdout",
     "output_type": "stream",
     "text": [
      "vc:  0.02923958333333333\n",
      "fc:  0.001679167020904496\n"
     ]
    }
   ],
   "source": [
    "# Original value [EUR2015/MWh] (Brynolf2018, p. 12, Fig. 4: https://www.sciencedirect.com/science/article/pii/S1364032117309358?via%3Dihub)\n",
    "total = 210\n",
    "\n",
    "# Exchange rate [EUR2016/EUR2015] (T1)\n",
    "rate = 1.0025\n",
    "\n",
    "# Energy conversion [MJ/MWh]\n",
    "conv = 3600\n",
    "\n",
    "# Variable share (Electricity and o&m fuel synthesis)\n",
    "vs = 0.5\n",
    "\n",
    "# Fixed share (Investment electrolise, stack replacement and other)\n",
    "fs = 1 - vs\n",
    "\n",
    "# Lifetime infrastructure [years]\n",
    "li = 25\n",
    "\n",
    "# Variable costs\n",
    "vc = total * vs * rate / conv\n",
    "\n",
    "# Fixed costs\n",
    "fc = (vc/vs) * fs * annuity(periods=li, rate=i)\n",
    "\n",
    "# Result\n",
    "print('vc: ', vc)\n",
    "print('fc: ', fc)"
   ]
  },
  {
   "cell_type": "markdown",
   "metadata": {},
   "source": [
    "### Ammonia (NH3)\n",
    "Liquid green ammonia from off-shore wind power and air."
   ]
  },
  {
   "cell_type": "code",
   "execution_count": 28,
   "metadata": {},
   "outputs": [
    {
     "name": "stdout",
     "output_type": "stream",
     "text": [
      "vc:  0.026803214788587364\n",
      "fc:  0.0018015970478854977\n"
     ]
    }
   ],
   "source": [
    "# Original value [USD2010/tonne] (Morgan2017, p. 9: https://pubs.acs.org/doi/ipdf/10.1021/acssuschemeng.7b02070)\n",
    "total = 1224\n",
    "\n",
    "# Exchange rate [EUR2016/USD2010] (T1)\n",
    "rate = 0.816622129\n",
    "\n",
    "# Lower heating value [MJ/tonne] (https://en.wikipedia.org/wiki/Heat_of_combustion or http://www.spg-corp.com/clean-energy-power-generation.html)\n",
    "lhv = 18646\n",
    "\n",
    "# Variable share (assumption)\n",
    "vs = 0.5\n",
    "\n",
    "# Fixed share\n",
    "fs = 1 - vs\n",
    "\n",
    "# Lifetime infrastructure [years]\n",
    "li = 20\n",
    "\n",
    "# Variable costs\n",
    "vc = total * vs * rate / lhv\n",
    "\n",
    "# Fixed costs\n",
    "fc = (vc/vs) * fs * annuity(periods=li, rate=i)\n",
    "\n",
    "# Result\n",
    "print('vc: ', vc)\n",
    "print('fc: ', fc)"
   ]
  },
  {
   "cell_type": "markdown",
   "metadata": {},
   "source": [
    "### Electricity (ELEC)"
   ]
  },
  {
   "cell_type": "code",
   "execution_count": 78,
   "metadata": {},
   "outputs": [
    {
     "name": "stdout",
     "output_type": "stream",
     "text": [
      "0.017333333333333333\n"
     ]
    }
   ],
   "source": [
    "# Average Danish electricity prices in 2016 for non-houshold consumers, excluding taxes and levies.\n",
    "# Original value [EUR2016/kWh] (http://appsso.eurostat.ec.europa.eu/nui/show.do?dataset=nrg_pc_205&lang=en)\n",
    "orig = (0.0602 + 0.0646) / 2\n",
    "\n",
    "# Exchange rate [EUR2016/EUR2016]\n",
    "rate = 1\n",
    "\n",
    "# Energy conversion [MJ/kWh]\n",
    "conv = 3.6\n",
    "\n",
    "# Conversion\n",
    "result = orig * rate / conv\n",
    "\n",
    "# Result\n",
    "print(result)"
   ]
  },
  {
   "cell_type": "code",
   "execution_count": 79,
   "metadata": {},
   "outputs": [
    {
     "name": "stdout",
     "output_type": "stream",
     "text": [
      "vc:  0.013888888888888888\n"
     ]
    }
   ],
   "source": [
    "# Original value [EUR2016/MWh] (As assumed for the electro fuels)\n",
    "orig = 50\n",
    "\n",
    "# Exchange rate [EUR2016/EUR2016]\n",
    "rate = 1\n",
    "\n",
    "# Energy conversion [MJ/MWh]\n",
    "conv = 3600\n",
    "\n",
    "# Conversion\n",
    "result = orig * rate / conv\n",
    "\n",
    "# Result\n",
    "print('vc: ', result)"
   ]
  },
  {
   "cell_type": "code",
   "execution_count": 31,
   "metadata": {},
   "outputs": [
    {
     "name": "stdout",
     "output_type": "stream",
     "text": [
      "fc:  0.002928859500796165\n"
     ]
    }
   ],
   "source": [
    "# Original values (Vree2008, pp. 18/19)\n",
    "# annual costs [EUR2008/year]\n",
    "ac = 1012000\n",
    "# actual power [MW] (15 MVA at cos(phi) = 0.8)\n",
    "power = 12\n",
    "# Full load hours per year [h/year]\n",
    "flh = 600\n",
    "\n",
    "# Exchange rate [EUR2016/EUR2008] (T1)\n",
    "rate = 1.116046394\n",
    "\n",
    "# Energy conversion [MJ/MWh]\n",
    "conv = 3600\n",
    "\n",
    "# Lifetime of appliances [years]\n",
    "li = 20\n",
    "\n",
    "# Conversion\n",
    "result = ac * rate / (power * flh * conv)\n",
    "fc = result * annuity(periods=li, rate=i)\n",
    "\n",
    "# Result\n",
    "print('fc: ', fc)"
   ]
  },
  {
   "cell_type": "markdown",
   "metadata": {},
   "source": [
    "## Emissions\n",
    "> - Well to tank emissions for\n",
    "    - co2 $\\left[\\frac{g_{co2}}{MJ_{fuel}}\\right]$\n",
    "    - ch4 $\\left[\\frac{g_{ch4}}{MJ_{fuel}}\\right]$\n",
    "- Mass share for the sulphur content $\\left[\\frac{g_{sox}}{g_{fuel}}\\right]$."
   ]
  },
  {
   "cell_type": "markdown",
   "metadata": {},
   "source": [
    "### Heavy Fuel Oil (HFO)"
   ]
  },
  {
   "cell_type": "code",
   "execution_count": 3,
   "metadata": {},
   "outputs": [
    {
     "name": "stdout",
     "output_type": "stream",
     "text": [
      "co2_w2t:  8.148148148148149\n",
      "sox:  0.0295245\n"
     ]
    }
   ],
   "source": [
    "# Original value for sulphur [g/MJ] (Brynolf2014, tab. 3)\n",
    "sox_content = 0.039 + 0.69\n",
    "\n",
    "# Upstream emissions in kg_co2/kg_fuel (Gilbert2017, p. 860)\n",
    "co2_w2t = 0.33\n",
    "\n",
    "# Lower heating value [MJ/tonne] (T2)\n",
    "lhv = 40500\n",
    "\n",
    "# Conversion\n",
    "co2 = co2_w2t / (lhv / 1000000)\n",
    "sox = sox_content * lhv / 1000000\n",
    "\n",
    "# Result\n",
    "print('co2_w2t: ', co2)\n",
    "print('sox: ', sox)"
   ]
  },
  {
   "cell_type": "markdown",
   "metadata": {},
   "source": [
    "### Marine Diesel Oil (MDO)"
   ]
  },
  {
   "cell_type": "code",
   "execution_count": 6,
   "metadata": {},
   "outputs": [
    {
     "name": "stdout",
     "output_type": "stream",
     "text": [
      "co2_w2t:  7.7283372365339575\n"
     ]
    }
   ],
   "source": [
    "# Upstream emissions in kg_co2/kg_fuel (Gilbert2017, p. 860)\n",
    "co2_w2t = 0.33\n",
    "\n",
    "# Lower heating value [MJ/tonne] (T2)\n",
    "lhv = 42700\n",
    "\n",
    "# Conversion\n",
    "co2 = co2_w2t / (lhv / 1000000)\n",
    "\n",
    "# Result\n",
    "print('co2_w2t: ', co2)"
   ]
  },
  {
   "cell_type": "markdown",
   "metadata": {},
   "source": [
    "### Biodiesel Oil (BDO)"
   ]
  },
  {
   "cell_type": "code",
   "execution_count": 4,
   "metadata": {},
   "outputs": [
    {
     "name": "stdout",
     "output_type": "stream",
     "text": [
      "sox:  0.0014982539999999999\n"
     ]
    }
   ],
   "source": [
    "# Original value for sulphur w2p [g/MJ] Bengtsson2012, tab. 4\n",
    "sox_content = 0.04 + 0.0002\n",
    "\n",
    "# Lower heating value [MJ/tonne] (T2)\n",
    "lhv = 37270\n",
    "\n",
    "# Conversion factor [g/tonne]\n",
    "conv = 1000 * 1000\n",
    "\n",
    "# Conversion\n",
    "sox = sox_content * lhv / conv\n",
    "\n",
    "# Result\n",
    "print('sox: ', sox)"
   ]
  },
  {
   "cell_type": "markdown",
   "metadata": {},
   "source": [
    "### Liquefied (LNG)"
   ]
  },
  {
   "cell_type": "code",
   "execution_count": 7,
   "metadata": {},
   "outputs": [
    {
     "name": "stdout",
     "output_type": "stream",
     "text": [
      "co2_w2t:  6.6\n"
     ]
    }
   ],
   "source": [
    "# Upstream emissions in kg_co2/kg_fuel (Gilbert2017, p. 860)\n",
    "co2_w2t = 0.33\n",
    "\n",
    "# Lower heating value [MJ/tonne] (T2)\n",
    "lhv = 50000\n",
    "\n",
    "# Conversion\n",
    "co2 = co2_w2t / (lhv / 1000000)\n",
    "\n",
    "# Result\n",
    "print('co2_w2t: ', co2)"
   ]
  },
  {
   "cell_type": "markdown",
   "metadata": {},
   "source": [
    "### Liquefied Biogas (LBG)\n",
    "Methane"
   ]
  },
  {
   "cell_type": "code",
   "execution_count": 84,
   "metadata": {},
   "outputs": [
    {
     "name": "stdout",
     "output_type": "stream",
     "text": [
      "sox:  0.00075\n"
     ]
    }
   ],
   "source": [
    "# Original value for sulphur w2p [g/MJ] Bengtsson2012, tab. 4\n",
    "orig = 0.015\n",
    "\n",
    "# Lower heating value [MJ/kg] (https://www.engineeringtoolbox.com/fuels-higher-calorific-values-d_169.html)\n",
    "lhv = 50\n",
    "\n",
    "# Conversion factor [g/kg]\n",
    "conv = 1000\n",
    "\n",
    "# Conversion\n",
    "result = orig * lhv / conv\n",
    "\n",
    "# Result\n",
    "print('sox: ', result)"
   ]
  }
 ],
 "metadata": {
  "kernelspec": {
   "display_name": "Python 3",
   "language": "python",
   "name": "python3"
  },
  "language_info": {
   "codemirror_mode": {
    "name": "ipython",
    "version": 3
   },
   "file_extension": ".py",
   "mimetype": "text/x-python",
   "name": "python",
   "nbconvert_exporter": "python",
   "pygments_lexer": "ipython3",
   "version": "3.6.3"
  }
 },
 "nbformat": 4,
 "nbformat_minor": 2
}
