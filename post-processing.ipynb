{
 "cells": [
  {
   "cell_type": "markdown",
   "metadata": {},
   "source": [
    "# Scenario Data Post-Processing from Model Output"
   ]
  },
  {
   "cell_type": "markdown",
   "metadata": {},
   "source": [
    "## Description\n",
    "The script extracts from the output tables the overall costs, emissions and fuel amounts per fuel type and its sum.\n",
    "\n",
    "Scenario name and rate have to be provided first."
   ]
  },
  {
   "cell_type": "markdown",
   "metadata": {},
   "source": [
    "## Content\n",
    ">- Script set-up\n",
    "- Scenario and rate\n",
    "- Load data\n",
    "- Required directories\n",
    "- Data preparation\n",
    "- Store data\n",
    "- Combine data\n",
    "- Store final data frame"
   ]
  },
  {
   "cell_type": "markdown",
   "metadata": {},
   "source": [
    "## Script Set-Up"
   ]
  },
  {
   "cell_type": "code",
   "execution_count": 98,
   "metadata": {
    "collapsed": true
   },
   "outputs": [],
   "source": [
    "# Import of required packages\n",
    "import os\n",
    "import pandas as pd\n",
    "import glob"
   ]
  },
  {
   "cell_type": "markdown",
   "metadata": {},
   "source": [
    "## Scenario and Rate"
   ]
  },
  {
   "cell_type": "code",
   "execution_count": 99,
   "metadata": {
    "collapsed": true
   },
   "outputs": [],
   "source": [
    "# Reference scenario: rs\n",
    "# Regulation scenarios: bau, rs_mp, snox, imo, tdvar\n",
    "# Cost scenarios: batwind, bdo, ch3oh, lbg, lng, lbg_mp, lng_mp, h2, nh3\n",
    "\n",
    "r = 0.2\n",
    "R = str(int(r*100))\n",
    "scn = 'h2'"
   ]
  },
  {
   "cell_type": "markdown",
   "metadata": {},
   "source": [
    "## Load Data"
   ]
  },
  {
   "cell_type": "code",
   "execution_count": 100,
   "metadata": {
    "collapsed": true
   },
   "outputs": [],
   "source": [
    "# Load data from model output directory\n",
    "path = 'model_output/' + R\n",
    "\n",
    "df = pd.read_csv(path + '/results_%s.csv' % scn, encoding='utf8', index_col=[0, 1])"
   ]
  },
  {
   "cell_type": "markdown",
   "metadata": {},
   "source": [
    "## Required Directories"
   ]
  },
  {
   "cell_type": "code",
   "execution_count": 101,
   "metadata": {
    "collapsed": true
   },
   "outputs": [],
   "source": [
    "# Make required directories\n",
    "path = 'tables/'\n",
    "\n",
    "if not os.path.isdir(path):\n",
    "    os.makedirs(path)"
   ]
  },
  {
   "cell_type": "markdown",
   "metadata": {},
   "source": [
    "## Data Preparation"
   ]
  },
  {
   "cell_type": "code",
   "execution_count": 102,
   "metadata": {
    "collapsed": true
   },
   "outputs": [],
   "source": [
    "# Reset index\n",
    "df = df.reset_index()\n",
    "\n",
    "# Make new column for each ship types fuel\n",
    "df['fuel'] = df['Unnamed: 1'].str.split('_').str[1]\n",
    "\n",
    "# Group per fuel and sum over all years\n",
    "df = df.groupby(['fuel'])[['CF', 'CI', 'CS', 'EC', 'EM', 'fa']].sum()"
   ]
  },
  {
   "cell_type": "code",
   "execution_count": 103,
   "metadata": {
    "collapsed": true
   },
   "outputs": [],
   "source": [
    "# Make the sum for each row over all fuels\n",
    "df.loc['total'] = df.sum()\n",
    "\n",
    "# Unstack the data frame\n",
    "df = df.unstack()\n",
    "\n",
    "# Make a data frame\n",
    "df = pd.DataFrame(df)\n",
    "\n",
    "# Rename column name\n",
    "df.columns = [scn + '_r' + R]"
   ]
  },
  {
   "cell_type": "markdown",
   "metadata": {},
   "source": [
    "## Store Data"
   ]
  },
  {
   "cell_type": "code",
   "execution_count": 104,
   "metadata": {
    "collapsed": true,
    "scrolled": true
   },
   "outputs": [],
   "source": [
    "# Write data to csv\n",
    "file = 'results_' + scn + '_r' + R + '_processed.csv'\n",
    "df.to_csv(path + file, encoding='utf8')"
   ]
  },
  {
   "cell_type": "markdown",
   "metadata": {},
   "source": [
    "## Combine Data"
   ]
  },
  {
   "cell_type": "code",
   "execution_count": 105,
   "metadata": {
    "collapsed": true
   },
   "outputs": [],
   "source": [
    "# Load all result files from the tables directory\n",
    "all_files = glob.glob(path + 'results' + '*.csv')"
   ]
  },
  {
   "cell_type": "code",
   "execution_count": 106,
   "metadata": {},
   "outputs": [
    {
     "data": {
      "text/plain": [
       "['tables\\\\results_bau_r0_processed.csv',\n",
       " 'tables\\\\results_rs_mp_r0_processed.csv',\n",
       " 'tables\\\\results_snox_r0_processed.csv',\n",
       " 'tables\\\\results_imo_r0_processed.csv',\n",
       " 'tables\\\\results_tdvar_r0_processed.csv',\n",
       " 'tables\\\\results_h2_r20_processed.csv',\n",
       " 'tables\\\\results_nh3_r-20_processed.csv',\n",
       " 'tables\\\\results_lbg_r-40_processed.csv',\n",
       " 'tables\\\\results_lbg_mp_r-40_processed.csv',\n",
       " 'tables\\\\results_ch3oh_r-20_processed.csv',\n",
       " 'tables\\\\results_lng_r-80_processed.csv',\n",
       " 'tables\\\\results_bdo_r-50_processed.csv',\n",
       " 'tables\\\\results_lng_mp_r-80_processed.csv',\n",
       " 'tables\\\\results_batwind_r-99_processed.csv',\n",
       " 'tables\\\\results_rs_r0_processed.csv']"
      ]
     },
     "execution_count": 106,
     "metadata": {},
     "output_type": "execute_result"
    }
   ],
   "source": [
    "all_files"
   ]
  },
  {
   "cell_type": "raw",
   "metadata": {
    "collapsed": true
   },
   "source": [
    "# Concat all files into one data frame\n",
    "df1 = pd.DataFrame()\n",
    "for f in all_files:\n",
    "    df2 = pd.read_csv(f, encoding='utf8', index_col=[0, 1])\n",
    "    df1 = pd.concat([df1, df2], axis=1, join_axes=[df2.index])\n",
    "\n",
    "# Round to 2 decimals\n",
    "df1 = df1.round(2)\n",
    "\n",
    "# Drop empty rows\n",
    "df_final = df1[(df1.T >= 0.01).any()]"
   ]
  },
  {
   "cell_type": "code",
   "execution_count": 112,
   "metadata": {
    "collapsed": true
   },
   "outputs": [],
   "source": [
    "# Concat all files into one data frame\n",
    "df1 = pd.DataFrame()\n",
    "for f in all_files:\n",
    "    df2 = pd.read_csv(f, encoding='utf8', index_col=[0, 1])\n",
    "    new_col = df2.columns[0]\n",
    "    df1[new_col] = df2[new_col]\n",
    "\n",
    "# Round to 2 decimals\n",
    "df1 = df1.round(2)\n",
    "\n",
    "# Drop empty rows\n",
    "df_final = df1[(df1.T >= 0.01).any()]"
   ]
  },
  {
   "cell_type": "code",
   "execution_count": 113,
   "metadata": {
    "scrolled": true
   },
   "outputs": [
    {
     "name": "stderr",
     "output_type": "stream",
     "text": [
      "C:\\Users\\tilseb\\anaconda3\\lib\\site-packages\\ipykernel_launcher.py:1: SettingWithCopyWarning: \n",
      "A value is trying to be set on a copy of a slice from a DataFrame\n",
      "\n",
      "See the caveats in the documentation: http://pandas.pydata.org/pandas-docs/stable/indexing.html#indexing-view-versus-copy\n",
      "  \"\"\"Entry point for launching an IPython kernel.\n"
     ]
    }
   ],
   "source": [
    "df_final.loc[('co2e_price', 'total'), :] = 0\n",
    "for col in df_final.columns:\n",
    "    df_final.loc[('co2e_price', 'total'), col] = ((df_final.loc[('CF', 'total'), col] +\n",
    "                                                  df_final.loc[('CI', 'total'), col] +\n",
    "                                                  df_final.loc[('CS', 'total'), col] -\n",
    "                                                  df_final.loc[('CF', 'total'), 'bau_r0'] -\n",
    "                                                  df_final.loc[('CI', 'total'), 'bau_r0'] -\n",
    "                                                  df_final.loc[('CS', 'total'), 'bau_r0']) /\n",
    "                                                  (df_final.loc[('EC', 'total'), 'bau_r0'] +\n",
    "                                                  df_final.loc[('EM', 'total'), 'bau_r0'] -\n",
    "                                                  df_final.loc[('EC', 'total'), col] - \n",
    "                                                  df_final.loc[('EM', 'total'), col])) * 10**6\n",
    "df_final = df_final.round(2)"
   ]
  },
  {
   "cell_type": "code",
   "execution_count": 114,
   "metadata": {
    "collapsed": true
   },
   "outputs": [],
   "source": [
    "# Convert costs from 10^12 to 10^9\n",
    "df_final.loc[['CF', 'CI', 'CS'], :] *= 1000"
   ]
  },
  {
   "cell_type": "markdown",
   "metadata": {},
   "source": [
    "## Store Final Data Frame"
   ]
  },
  {
   "cell_type": "code",
   "execution_count": 115,
   "metadata": {
    "collapsed": true,
    "scrolled": true
   },
   "outputs": [],
   "source": [
    "# Write data to csv\n",
    "file = 'final_results_processed.csv'\n",
    "df_final.to_csv(path + file, encoding='utf8')"
   ]
  }
 ],
 "metadata": {
  "kernelspec": {
   "display_name": "Python 3",
   "language": "python",
   "name": "python3"
  },
  "language_info": {
   "codemirror_mode": {
    "name": "ipython",
    "version": 3
   },
   "file_extension": ".py",
   "mimetype": "text/x-python",
   "name": "python",
   "nbconvert_exporter": "python",
   "pygments_lexer": "ipython3",
   "version": "3.6.3"
  }
 },
 "nbformat": 4,
 "nbformat_minor": 2
}
